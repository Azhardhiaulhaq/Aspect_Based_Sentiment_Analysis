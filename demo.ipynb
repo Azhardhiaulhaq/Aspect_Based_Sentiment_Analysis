{
 "metadata": {
  "language_info": {
   "codemirror_mode": {
    "name": "ipython",
    "version": 3
   },
   "file_extension": ".py",
   "mimetype": "text/x-python",
   "name": "python",
   "nbconvert_exporter": "python",
   "pygments_lexer": "ipython3",
   "version": "3.7.9-final"
  },
  "orig_nbformat": 2,
  "kernelspec": {
   "name": "python379jvsc74a57bd07c484756800a7c5643c1070e640262e8e18865340f257814442ed3cbd3456266",
   "display_name": "Python 3.7.9 64-bit"
  },
  "metadata": {
   "interpreter": {
    "hash": "7c484756800a7c5643c1070e640262e8e18865340f257814442ed3cbd3456266"
   }
  }
 },
 "nbformat": 4,
 "nbformat_minor": 2,
 "cells": [
  {
   "cell_type": "code",
   "execution_count": 1,
   "metadata": {},
   "outputs": [],
   "source": [
    "from modules import PolarityDetection"
   ]
  },
  {
   "cell_type": "code",
   "execution_count": 2,
   "metadata": {},
   "outputs": [
    {
     "output_type": "stream",
     "name": "stdout",
     "text": [
      "['Positive', 'Positive']\n"
     ]
    }
   ],
   "source": [
    "polarity_detector = PolarityDetection.PolarityDetection()\n",
    "sentence = ['kamar nyaman tapi makanan tidak enak. kamar nyaman','kamar nyaman tapi makanan tidak enak. makanan tidak enak']\n",
    "polarity_detector.load_model(\"modules/model/PolarityDetection\")\n",
    "sentiment = polarity_detector.predict(sentence)\n",
    "print(sentiment)"
   ]
  },
  {
   "cell_type": "code",
   "execution_count": 12,
   "metadata": {},
   "outputs": [
    {
     "output_type": "stream",
     "name": "stdout",
     "text": [
      "Untuk kalimat review berikut : \nkamar nyaman tapi makanan tidak enak\n\n\nRelation            Polarity\n------------------------------\n"
     ]
    }
   ],
   "source": [
    "sent = sentence[0].split('.')[:-1]\n",
    "relation = []\n",
    "for sentc in sentence : \n",
    "    temp_relation = sentc.split('.')[-1]\n",
    "    relation.append(temp_relation)\n",
    "\n",
    "print(\"Untuk kalimat review berikut : \")\n",
    "print(sent[0])\n",
    "print(\"\\n\")\n",
    "print(\"{:20}{:5}\".format(\"Relation\",\"Polarity\"))\n",
    "print(\"-\" *30)"
   ]
  },
  {
   "cell_type": "code",
   "execution_count": null,
   "metadata": {},
   "outputs": [],
   "source": []
  }
 ]
}