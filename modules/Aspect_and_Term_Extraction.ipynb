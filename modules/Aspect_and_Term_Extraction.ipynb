{
  "nbformat": 4,
  "nbformat_minor": 0,
  "metadata": {
    "kernelspec": {
      "display_name": "Python 3",
      "language": "python",
      "name": "python3"
    },
    "language_info": {
      "codemirror_mode": {
        "name": "ipython",
        "version": 3
      },
      "file_extension": ".py",
      "mimetype": "text/x-python",
      "name": "python",
      "nbconvert_exporter": "python",
      "pygments_lexer": "ipython3",
      "version": "3.7.4"
    },
    "colab": {
      "name": "13517149_Tubes_Aplikasi_NLP.ipynb",
      "provenance": [],
      "collapsed_sections": [
        "r2FVg8K6FP5C"
      ],
      "toc_visible": true
    },
    "accelerator": "GPU",
    "widgets": {
      "application/vnd.jupyter.widget-state+json": {
        "28c5b4370a494ba4881139bdf01391a0": {
          "model_module": "@jupyter-widgets/controls",
          "model_name": "HBoxModel",
          "state": {
            "_view_name": "HBoxView",
            "_dom_classes": [],
            "_model_name": "HBoxModel",
            "_view_module": "@jupyter-widgets/controls",
            "_model_module_version": "1.5.0",
            "_view_count": null,
            "_view_module_version": "1.5.0",
            "box_style": "",
            "layout": "IPY_MODEL_df00c9c2efd7488b9ae1e0d7dca6656e",
            "_model_module": "@jupyter-widgets/controls",
            "children": [
              "IPY_MODEL_7206e34b5e9f445fad68d6d24ed2eb02",
              "IPY_MODEL_1ee094b7c68f409c8f2e5071cfa59228"
            ]
          }
        },
        "df00c9c2efd7488b9ae1e0d7dca6656e": {
          "model_module": "@jupyter-widgets/base",
          "model_name": "LayoutModel",
          "state": {
            "_view_name": "LayoutView",
            "grid_template_rows": null,
            "right": null,
            "justify_content": null,
            "_view_module": "@jupyter-widgets/base",
            "overflow": null,
            "_model_module_version": "1.2.0",
            "_view_count": null,
            "flex_flow": null,
            "width": null,
            "min_width": null,
            "border": null,
            "align_items": null,
            "bottom": null,
            "_model_module": "@jupyter-widgets/base",
            "top": null,
            "grid_column": null,
            "overflow_y": null,
            "overflow_x": null,
            "grid_auto_flow": null,
            "grid_area": null,
            "grid_template_columns": null,
            "flex": null,
            "_model_name": "LayoutModel",
            "justify_items": null,
            "grid_row": null,
            "max_height": null,
            "align_content": null,
            "visibility": null,
            "align_self": null,
            "height": null,
            "min_height": null,
            "padding": null,
            "grid_auto_rows": null,
            "grid_gap": null,
            "max_width": null,
            "order": null,
            "_view_module_version": "1.2.0",
            "grid_template_areas": null,
            "object_position": null,
            "object_fit": null,
            "grid_auto_columns": null,
            "margin": null,
            "display": null,
            "left": null
          }
        },
        "7206e34b5e9f445fad68d6d24ed2eb02": {
          "model_module": "@jupyter-widgets/controls",
          "model_name": "FloatProgressModel",
          "state": {
            "_view_name": "ProgressView",
            "style": "IPY_MODEL_fd087f0e7f5643b597137a63423c26bb",
            "_dom_classes": [],
            "description": "Downloading: 100%",
            "_model_name": "FloatProgressModel",
            "bar_style": "success",
            "max": 229167,
            "_view_module": "@jupyter-widgets/controls",
            "_model_module_version": "1.5.0",
            "value": 229167,
            "_view_count": null,
            "_view_module_version": "1.5.0",
            "orientation": "horizontal",
            "min": 0,
            "description_tooltip": null,
            "_model_module": "@jupyter-widgets/controls",
            "layout": "IPY_MODEL_ace7a840882e47a7a1a1756e2c1de0c3"
          }
        },
        "1ee094b7c68f409c8f2e5071cfa59228": {
          "model_module": "@jupyter-widgets/controls",
          "model_name": "HTMLModel",
          "state": {
            "_view_name": "HTMLView",
            "style": "IPY_MODEL_c09c12e491ea427988f0ada066452879",
            "_dom_classes": [],
            "description": "",
            "_model_name": "HTMLModel",
            "placeholder": "​",
            "_view_module": "@jupyter-widgets/controls",
            "_model_module_version": "1.5.0",
            "value": " 229k/229k [00:00&lt;00:00, 1.57MB/s]",
            "_view_count": null,
            "_view_module_version": "1.5.0",
            "description_tooltip": null,
            "_model_module": "@jupyter-widgets/controls",
            "layout": "IPY_MODEL_bbac9144ee614e7187a555464e0273c6"
          }
        },
        "fd087f0e7f5643b597137a63423c26bb": {
          "model_module": "@jupyter-widgets/controls",
          "model_name": "ProgressStyleModel",
          "state": {
            "_view_name": "StyleView",
            "_model_name": "ProgressStyleModel",
            "description_width": "initial",
            "_view_module": "@jupyter-widgets/base",
            "_model_module_version": "1.5.0",
            "_view_count": null,
            "_view_module_version": "1.2.0",
            "bar_color": null,
            "_model_module": "@jupyter-widgets/controls"
          }
        },
        "ace7a840882e47a7a1a1756e2c1de0c3": {
          "model_module": "@jupyter-widgets/base",
          "model_name": "LayoutModel",
          "state": {
            "_view_name": "LayoutView",
            "grid_template_rows": null,
            "right": null,
            "justify_content": null,
            "_view_module": "@jupyter-widgets/base",
            "overflow": null,
            "_model_module_version": "1.2.0",
            "_view_count": null,
            "flex_flow": null,
            "width": null,
            "min_width": null,
            "border": null,
            "align_items": null,
            "bottom": null,
            "_model_module": "@jupyter-widgets/base",
            "top": null,
            "grid_column": null,
            "overflow_y": null,
            "overflow_x": null,
            "grid_auto_flow": null,
            "grid_area": null,
            "grid_template_columns": null,
            "flex": null,
            "_model_name": "LayoutModel",
            "justify_items": null,
            "grid_row": null,
            "max_height": null,
            "align_content": null,
            "visibility": null,
            "align_self": null,
            "height": null,
            "min_height": null,
            "padding": null,
            "grid_auto_rows": null,
            "grid_gap": null,
            "max_width": null,
            "order": null,
            "_view_module_version": "1.2.0",
            "grid_template_areas": null,
            "object_position": null,
            "object_fit": null,
            "grid_auto_columns": null,
            "margin": null,
            "display": null,
            "left": null
          }
        },
        "c09c12e491ea427988f0ada066452879": {
          "model_module": "@jupyter-widgets/controls",
          "model_name": "DescriptionStyleModel",
          "state": {
            "_view_name": "StyleView",
            "_model_name": "DescriptionStyleModel",
            "description_width": "",
            "_view_module": "@jupyter-widgets/base",
            "_model_module_version": "1.5.0",
            "_view_count": null,
            "_view_module_version": "1.2.0",
            "_model_module": "@jupyter-widgets/controls"
          }
        },
        "bbac9144ee614e7187a555464e0273c6": {
          "model_module": "@jupyter-widgets/base",
          "model_name": "LayoutModel",
          "state": {
            "_view_name": "LayoutView",
            "grid_template_rows": null,
            "right": null,
            "justify_content": null,
            "_view_module": "@jupyter-widgets/base",
            "overflow": null,
            "_model_module_version": "1.2.0",
            "_view_count": null,
            "flex_flow": null,
            "width": null,
            "min_width": null,
            "border": null,
            "align_items": null,
            "bottom": null,
            "_model_module": "@jupyter-widgets/base",
            "top": null,
            "grid_column": null,
            "overflow_y": null,
            "overflow_x": null,
            "grid_auto_flow": null,
            "grid_area": null,
            "grid_template_columns": null,
            "flex": null,
            "_model_name": "LayoutModel",
            "justify_items": null,
            "grid_row": null,
            "max_height": null,
            "align_content": null,
            "visibility": null,
            "align_self": null,
            "height": null,
            "min_height": null,
            "padding": null,
            "grid_auto_rows": null,
            "grid_gap": null,
            "max_width": null,
            "order": null,
            "_view_module_version": "1.2.0",
            "grid_template_areas": null,
            "object_position": null,
            "object_fit": null,
            "grid_auto_columns": null,
            "margin": null,
            "display": null,
            "left": null
          }
        },
        "12898428f76540deab9d9b3047a6966c": {
          "model_module": "@jupyter-widgets/controls",
          "model_name": "HBoxModel",
          "state": {
            "_view_name": "HBoxView",
            "_dom_classes": [],
            "_model_name": "HBoxModel",
            "_view_module": "@jupyter-widgets/controls",
            "_model_module_version": "1.5.0",
            "_view_count": null,
            "_view_module_version": "1.5.0",
            "box_style": "",
            "layout": "IPY_MODEL_7831daf888e141cf9589b93c2a91d3f7",
            "_model_module": "@jupyter-widgets/controls",
            "children": [
              "IPY_MODEL_e6495e27257c41cbbf08a161fb854aff",
              "IPY_MODEL_067063d1773b41e392d0f9057ddb396d"
            ]
          }
        },
        "7831daf888e141cf9589b93c2a91d3f7": {
          "model_module": "@jupyter-widgets/base",
          "model_name": "LayoutModel",
          "state": {
            "_view_name": "LayoutView",
            "grid_template_rows": null,
            "right": null,
            "justify_content": null,
            "_view_module": "@jupyter-widgets/base",
            "overflow": null,
            "_model_module_version": "1.2.0",
            "_view_count": null,
            "flex_flow": null,
            "width": null,
            "min_width": null,
            "border": null,
            "align_items": null,
            "bottom": null,
            "_model_module": "@jupyter-widgets/base",
            "top": null,
            "grid_column": null,
            "overflow_y": null,
            "overflow_x": null,
            "grid_auto_flow": null,
            "grid_area": null,
            "grid_template_columns": null,
            "flex": null,
            "_model_name": "LayoutModel",
            "justify_items": null,
            "grid_row": null,
            "max_height": null,
            "align_content": null,
            "visibility": null,
            "align_self": null,
            "height": null,
            "min_height": null,
            "padding": null,
            "grid_auto_rows": null,
            "grid_gap": null,
            "max_width": null,
            "order": null,
            "_view_module_version": "1.2.0",
            "grid_template_areas": null,
            "object_position": null,
            "object_fit": null,
            "grid_auto_columns": null,
            "margin": null,
            "display": null,
            "left": null
          }
        },
        "e6495e27257c41cbbf08a161fb854aff": {
          "model_module": "@jupyter-widgets/controls",
          "model_name": "FloatProgressModel",
          "state": {
            "_view_name": "ProgressView",
            "style": "IPY_MODEL_570d41ce3a4340858ab143920f80dc45",
            "_dom_classes": [],
            "description": "Downloading: 100%",
            "_model_name": "FloatProgressModel",
            "bar_style": "success",
            "max": 112,
            "_view_module": "@jupyter-widgets/controls",
            "_model_module_version": "1.5.0",
            "value": 112,
            "_view_count": null,
            "_view_module_version": "1.5.0",
            "orientation": "horizontal",
            "min": 0,
            "description_tooltip": null,
            "_model_module": "@jupyter-widgets/controls",
            "layout": "IPY_MODEL_105aeb9e2cf84feda4b65298a2fd4caa"
          }
        },
        "067063d1773b41e392d0f9057ddb396d": {
          "model_module": "@jupyter-widgets/controls",
          "model_name": "HTMLModel",
          "state": {
            "_view_name": "HTMLView",
            "style": "IPY_MODEL_a5a36bc35f23420db37f737e82cfca30",
            "_dom_classes": [],
            "description": "",
            "_model_name": "HTMLModel",
            "placeholder": "​",
            "_view_module": "@jupyter-widgets/controls",
            "_model_module_version": "1.5.0",
            "value": " 112/112 [00:00&lt;00:00, 552B/s]",
            "_view_count": null,
            "_view_module_version": "1.5.0",
            "description_tooltip": null,
            "_model_module": "@jupyter-widgets/controls",
            "layout": "IPY_MODEL_b801c5f4f590472ab74575b5a12c2a87"
          }
        },
        "570d41ce3a4340858ab143920f80dc45": {
          "model_module": "@jupyter-widgets/controls",
          "model_name": "ProgressStyleModel",
          "state": {
            "_view_name": "StyleView",
            "_model_name": "ProgressStyleModel",
            "description_width": "initial",
            "_view_module": "@jupyter-widgets/base",
            "_model_module_version": "1.5.0",
            "_view_count": null,
            "_view_module_version": "1.2.0",
            "bar_color": null,
            "_model_module": "@jupyter-widgets/controls"
          }
        },
        "105aeb9e2cf84feda4b65298a2fd4caa": {
          "model_module": "@jupyter-widgets/base",
          "model_name": "LayoutModel",
          "state": {
            "_view_name": "LayoutView",
            "grid_template_rows": null,
            "right": null,
            "justify_content": null,
            "_view_module": "@jupyter-widgets/base",
            "overflow": null,
            "_model_module_version": "1.2.0",
            "_view_count": null,
            "flex_flow": null,
            "width": null,
            "min_width": null,
            "border": null,
            "align_items": null,
            "bottom": null,
            "_model_module": "@jupyter-widgets/base",
            "top": null,
            "grid_column": null,
            "overflow_y": null,
            "overflow_x": null,
            "grid_auto_flow": null,
            "grid_area": null,
            "grid_template_columns": null,
            "flex": null,
            "_model_name": "LayoutModel",
            "justify_items": null,
            "grid_row": null,
            "max_height": null,
            "align_content": null,
            "visibility": null,
            "align_self": null,
            "height": null,
            "min_height": null,
            "padding": null,
            "grid_auto_rows": null,
            "grid_gap": null,
            "max_width": null,
            "order": null,
            "_view_module_version": "1.2.0",
            "grid_template_areas": null,
            "object_position": null,
            "object_fit": null,
            "grid_auto_columns": null,
            "margin": null,
            "display": null,
            "left": null
          }
        },
        "a5a36bc35f23420db37f737e82cfca30": {
          "model_module": "@jupyter-widgets/controls",
          "model_name": "DescriptionStyleModel",
          "state": {
            "_view_name": "StyleView",
            "_model_name": "DescriptionStyleModel",
            "description_width": "",
            "_view_module": "@jupyter-widgets/base",
            "_model_module_version": "1.5.0",
            "_view_count": null,
            "_view_module_version": "1.2.0",
            "_model_module": "@jupyter-widgets/controls"
          }
        },
        "b801c5f4f590472ab74575b5a12c2a87": {
          "model_module": "@jupyter-widgets/base",
          "model_name": "LayoutModel",
          "state": {
            "_view_name": "LayoutView",
            "grid_template_rows": null,
            "right": null,
            "justify_content": null,
            "_view_module": "@jupyter-widgets/base",
            "overflow": null,
            "_model_module_version": "1.2.0",
            "_view_count": null,
            "flex_flow": null,
            "width": null,
            "min_width": null,
            "border": null,
            "align_items": null,
            "bottom": null,
            "_model_module": "@jupyter-widgets/base",
            "top": null,
            "grid_column": null,
            "overflow_y": null,
            "overflow_x": null,
            "grid_auto_flow": null,
            "grid_area": null,
            "grid_template_columns": null,
            "flex": null,
            "_model_name": "LayoutModel",
            "justify_items": null,
            "grid_row": null,
            "max_height": null,
            "align_content": null,
            "visibility": null,
            "align_self": null,
            "height": null,
            "min_height": null,
            "padding": null,
            "grid_auto_rows": null,
            "grid_gap": null,
            "max_width": null,
            "order": null,
            "_view_module_version": "1.2.0",
            "grid_template_areas": null,
            "object_position": null,
            "object_fit": null,
            "grid_auto_columns": null,
            "margin": null,
            "display": null,
            "left": null
          }
        },
        "c5f841d9f259408195a95edd4a66c123": {
          "model_module": "@jupyter-widgets/controls",
          "model_name": "HBoxModel",
          "state": {
            "_view_name": "HBoxView",
            "_dom_classes": [],
            "_model_name": "HBoxModel",
            "_view_module": "@jupyter-widgets/controls",
            "_model_module_version": "1.5.0",
            "_view_count": null,
            "_view_module_version": "1.5.0",
            "box_style": "",
            "layout": "IPY_MODEL_fe4e02d6ada34bc8a4ef4199a2a305c2",
            "_model_module": "@jupyter-widgets/controls",
            "children": [
              "IPY_MODEL_fe4ca05b99eb42e49efafbcb5591a44a",
              "IPY_MODEL_48302ea4049c4439967f0316c21517a9"
            ]
          }
        },
        "fe4e02d6ada34bc8a4ef4199a2a305c2": {
          "model_module": "@jupyter-widgets/base",
          "model_name": "LayoutModel",
          "state": {
            "_view_name": "LayoutView",
            "grid_template_rows": null,
            "right": null,
            "justify_content": null,
            "_view_module": "@jupyter-widgets/base",
            "overflow": null,
            "_model_module_version": "1.2.0",
            "_view_count": null,
            "flex_flow": null,
            "width": null,
            "min_width": null,
            "border": null,
            "align_items": null,
            "bottom": null,
            "_model_module": "@jupyter-widgets/base",
            "top": null,
            "grid_column": null,
            "overflow_y": null,
            "overflow_x": null,
            "grid_auto_flow": null,
            "grid_area": null,
            "grid_template_columns": null,
            "flex": null,
            "_model_name": "LayoutModel",
            "justify_items": null,
            "grid_row": null,
            "max_height": null,
            "align_content": null,
            "visibility": null,
            "align_self": null,
            "height": null,
            "min_height": null,
            "padding": null,
            "grid_auto_rows": null,
            "grid_gap": null,
            "max_width": null,
            "order": null,
            "_view_module_version": "1.2.0",
            "grid_template_areas": null,
            "object_position": null,
            "object_fit": null,
            "grid_auto_columns": null,
            "margin": null,
            "display": null,
            "left": null
          }
        },
        "fe4ca05b99eb42e49efafbcb5591a44a": {
          "model_module": "@jupyter-widgets/controls",
          "model_name": "FloatProgressModel",
          "state": {
            "_view_name": "ProgressView",
            "style": "IPY_MODEL_5f9b594253bb499e897a27135ac5f99d",
            "_dom_classes": [],
            "description": "Downloading: 100%",
            "_model_name": "FloatProgressModel",
            "bar_style": "success",
            "max": 2,
            "_view_module": "@jupyter-widgets/controls",
            "_model_module_version": "1.5.0",
            "value": 2,
            "_view_count": null,
            "_view_module_version": "1.5.0",
            "orientation": "horizontal",
            "min": 0,
            "description_tooltip": null,
            "_model_module": "@jupyter-widgets/controls",
            "layout": "IPY_MODEL_969e1475a2e84a5899433f7f514f3298"
          }
        },
        "48302ea4049c4439967f0316c21517a9": {
          "model_module": "@jupyter-widgets/controls",
          "model_name": "HTMLModel",
          "state": {
            "_view_name": "HTMLView",
            "style": "IPY_MODEL_8211f5b9f1ea486b84ed85e64cd54a92",
            "_dom_classes": [],
            "description": "",
            "_model_name": "HTMLModel",
            "placeholder": "​",
            "_view_module": "@jupyter-widgets/controls",
            "_model_module_version": "1.5.0",
            "value": " 2.00/2.00 [00:00&lt;00:00, 18.8B/s]",
            "_view_count": null,
            "_view_module_version": "1.5.0",
            "description_tooltip": null,
            "_model_module": "@jupyter-widgets/controls",
            "layout": "IPY_MODEL_1f6a12e63df844d7808aa0a777116c62"
          }
        },
        "5f9b594253bb499e897a27135ac5f99d": {
          "model_module": "@jupyter-widgets/controls",
          "model_name": "ProgressStyleModel",
          "state": {
            "_view_name": "StyleView",
            "_model_name": "ProgressStyleModel",
            "description_width": "initial",
            "_view_module": "@jupyter-widgets/base",
            "_model_module_version": "1.5.0",
            "_view_count": null,
            "_view_module_version": "1.2.0",
            "bar_color": null,
            "_model_module": "@jupyter-widgets/controls"
          }
        },
        "969e1475a2e84a5899433f7f514f3298": {
          "model_module": "@jupyter-widgets/base",
          "model_name": "LayoutModel",
          "state": {
            "_view_name": "LayoutView",
            "grid_template_rows": null,
            "right": null,
            "justify_content": null,
            "_view_module": "@jupyter-widgets/base",
            "overflow": null,
            "_model_module_version": "1.2.0",
            "_view_count": null,
            "flex_flow": null,
            "width": null,
            "min_width": null,
            "border": null,
            "align_items": null,
            "bottom": null,
            "_model_module": "@jupyter-widgets/base",
            "top": null,
            "grid_column": null,
            "overflow_y": null,
            "overflow_x": null,
            "grid_auto_flow": null,
            "grid_area": null,
            "grid_template_columns": null,
            "flex": null,
            "_model_name": "LayoutModel",
            "justify_items": null,
            "grid_row": null,
            "max_height": null,
            "align_content": null,
            "visibility": null,
            "align_self": null,
            "height": null,
            "min_height": null,
            "padding": null,
            "grid_auto_rows": null,
            "grid_gap": null,
            "max_width": null,
            "order": null,
            "_view_module_version": "1.2.0",
            "grid_template_areas": null,
            "object_position": null,
            "object_fit": null,
            "grid_auto_columns": null,
            "margin": null,
            "display": null,
            "left": null
          }
        },
        "8211f5b9f1ea486b84ed85e64cd54a92": {
          "model_module": "@jupyter-widgets/controls",
          "model_name": "DescriptionStyleModel",
          "state": {
            "_view_name": "StyleView",
            "_model_name": "DescriptionStyleModel",
            "description_width": "",
            "_view_module": "@jupyter-widgets/base",
            "_model_module_version": "1.5.0",
            "_view_count": null,
            "_view_module_version": "1.2.0",
            "_model_module": "@jupyter-widgets/controls"
          }
        },
        "1f6a12e63df844d7808aa0a777116c62": {
          "model_module": "@jupyter-widgets/base",
          "model_name": "LayoutModel",
          "state": {
            "_view_name": "LayoutView",
            "grid_template_rows": null,
            "right": null,
            "justify_content": null,
            "_view_module": "@jupyter-widgets/base",
            "overflow": null,
            "_model_module_version": "1.2.0",
            "_view_count": null,
            "flex_flow": null,
            "width": null,
            "min_width": null,
            "border": null,
            "align_items": null,
            "bottom": null,
            "_model_module": "@jupyter-widgets/base",
            "top": null,
            "grid_column": null,
            "overflow_y": null,
            "overflow_x": null,
            "grid_auto_flow": null,
            "grid_area": null,
            "grid_template_columns": null,
            "flex": null,
            "_model_name": "LayoutModel",
            "justify_items": null,
            "grid_row": null,
            "max_height": null,
            "align_content": null,
            "visibility": null,
            "align_self": null,
            "height": null,
            "min_height": null,
            "padding": null,
            "grid_auto_rows": null,
            "grid_gap": null,
            "max_width": null,
            "order": null,
            "_view_module_version": "1.2.0",
            "grid_template_areas": null,
            "object_position": null,
            "object_fit": null,
            "grid_auto_columns": null,
            "margin": null,
            "display": null,
            "left": null
          }
        },
        "7f53c08524db4faaa4c4117e1ac8150d": {
          "model_module": "@jupyter-widgets/controls",
          "model_name": "HBoxModel",
          "state": {
            "_view_name": "HBoxView",
            "_dom_classes": [],
            "_model_name": "HBoxModel",
            "_view_module": "@jupyter-widgets/controls",
            "_model_module_version": "1.5.0",
            "_view_count": null,
            "_view_module_version": "1.5.0",
            "box_style": "",
            "layout": "IPY_MODEL_3fb4f5dcaece4b20ab2e88773dda5b43",
            "_model_module": "@jupyter-widgets/controls",
            "children": [
              "IPY_MODEL_1042fc2559e3463eb9aff32fc9ef5096",
              "IPY_MODEL_c4827854d731487296d4b7b3a1665698"
            ]
          }
        },
        "3fb4f5dcaece4b20ab2e88773dda5b43": {
          "model_module": "@jupyter-widgets/base",
          "model_name": "LayoutModel",
          "state": {
            "_view_name": "LayoutView",
            "grid_template_rows": null,
            "right": null,
            "justify_content": null,
            "_view_module": "@jupyter-widgets/base",
            "overflow": null,
            "_model_module_version": "1.2.0",
            "_view_count": null,
            "flex_flow": null,
            "width": null,
            "min_width": null,
            "border": null,
            "align_items": null,
            "bottom": null,
            "_model_module": "@jupyter-widgets/base",
            "top": null,
            "grid_column": null,
            "overflow_y": null,
            "overflow_x": null,
            "grid_auto_flow": null,
            "grid_area": null,
            "grid_template_columns": null,
            "flex": null,
            "_model_name": "LayoutModel",
            "justify_items": null,
            "grid_row": null,
            "max_height": null,
            "align_content": null,
            "visibility": null,
            "align_self": null,
            "height": null,
            "min_height": null,
            "padding": null,
            "grid_auto_rows": null,
            "grid_gap": null,
            "max_width": null,
            "order": null,
            "_view_module_version": "1.2.0",
            "grid_template_areas": null,
            "object_position": null,
            "object_fit": null,
            "grid_auto_columns": null,
            "margin": null,
            "display": null,
            "left": null
          }
        },
        "1042fc2559e3463eb9aff32fc9ef5096": {
          "model_module": "@jupyter-widgets/controls",
          "model_name": "FloatProgressModel",
          "state": {
            "_view_name": "ProgressView",
            "style": "IPY_MODEL_23ac648030234ce39ee845a1854e2462",
            "_dom_classes": [],
            "description": "Downloading: 100%",
            "_model_name": "FloatProgressModel",
            "bar_style": "success",
            "max": 1534,
            "_view_module": "@jupyter-widgets/controls",
            "_model_module_version": "1.5.0",
            "value": 1534,
            "_view_count": null,
            "_view_module_version": "1.5.0",
            "orientation": "horizontal",
            "min": 0,
            "description_tooltip": null,
            "_model_module": "@jupyter-widgets/controls",
            "layout": "IPY_MODEL_98122134d1c04bf1bd199fe8834c7bac"
          }
        },
        "c4827854d731487296d4b7b3a1665698": {
          "model_module": "@jupyter-widgets/controls",
          "model_name": "HTMLModel",
          "state": {
            "_view_name": "HTMLView",
            "style": "IPY_MODEL_1e7f76eb3dfd46fe8aef32a3b04d813e",
            "_dom_classes": [],
            "description": "",
            "_model_name": "HTMLModel",
            "placeholder": "​",
            "_view_module": "@jupyter-widgets/controls",
            "_model_module_version": "1.5.0",
            "value": " 1.53k/1.53k [00:00&lt;00:00, 5.13kB/s]",
            "_view_count": null,
            "_view_module_version": "1.5.0",
            "description_tooltip": null,
            "_model_module": "@jupyter-widgets/controls",
            "layout": "IPY_MODEL_5d020237494844fc85e3055c34c96c56"
          }
        },
        "23ac648030234ce39ee845a1854e2462": {
          "model_module": "@jupyter-widgets/controls",
          "model_name": "ProgressStyleModel",
          "state": {
            "_view_name": "StyleView",
            "_model_name": "ProgressStyleModel",
            "description_width": "initial",
            "_view_module": "@jupyter-widgets/base",
            "_model_module_version": "1.5.0",
            "_view_count": null,
            "_view_module_version": "1.2.0",
            "bar_color": null,
            "_model_module": "@jupyter-widgets/controls"
          }
        },
        "98122134d1c04bf1bd199fe8834c7bac": {
          "model_module": "@jupyter-widgets/base",
          "model_name": "LayoutModel",
          "state": {
            "_view_name": "LayoutView",
            "grid_template_rows": null,
            "right": null,
            "justify_content": null,
            "_view_module": "@jupyter-widgets/base",
            "overflow": null,
            "_model_module_version": "1.2.0",
            "_view_count": null,
            "flex_flow": null,
            "width": null,
            "min_width": null,
            "border": null,
            "align_items": null,
            "bottom": null,
            "_model_module": "@jupyter-widgets/base",
            "top": null,
            "grid_column": null,
            "overflow_y": null,
            "overflow_x": null,
            "grid_auto_flow": null,
            "grid_area": null,
            "grid_template_columns": null,
            "flex": null,
            "_model_name": "LayoutModel",
            "justify_items": null,
            "grid_row": null,
            "max_height": null,
            "align_content": null,
            "visibility": null,
            "align_self": null,
            "height": null,
            "min_height": null,
            "padding": null,
            "grid_auto_rows": null,
            "grid_gap": null,
            "max_width": null,
            "order": null,
            "_view_module_version": "1.2.0",
            "grid_template_areas": null,
            "object_position": null,
            "object_fit": null,
            "grid_auto_columns": null,
            "margin": null,
            "display": null,
            "left": null
          }
        },
        "1e7f76eb3dfd46fe8aef32a3b04d813e": {
          "model_module": "@jupyter-widgets/controls",
          "model_name": "DescriptionStyleModel",
          "state": {
            "_view_name": "StyleView",
            "_model_name": "DescriptionStyleModel",
            "description_width": "",
            "_view_module": "@jupyter-widgets/base",
            "_model_module_version": "1.5.0",
            "_view_count": null,
            "_view_module_version": "1.2.0",
            "_model_module": "@jupyter-widgets/controls"
          }
        },
        "5d020237494844fc85e3055c34c96c56": {
          "model_module": "@jupyter-widgets/base",
          "model_name": "LayoutModel",
          "state": {
            "_view_name": "LayoutView",
            "grid_template_rows": null,
            "right": null,
            "justify_content": null,
            "_view_module": "@jupyter-widgets/base",
            "overflow": null,
            "_model_module_version": "1.2.0",
            "_view_count": null,
            "flex_flow": null,
            "width": null,
            "min_width": null,
            "border": null,
            "align_items": null,
            "bottom": null,
            "_model_module": "@jupyter-widgets/base",
            "top": null,
            "grid_column": null,
            "overflow_y": null,
            "overflow_x": null,
            "grid_auto_flow": null,
            "grid_area": null,
            "grid_template_columns": null,
            "flex": null,
            "_model_name": "LayoutModel",
            "justify_items": null,
            "grid_row": null,
            "max_height": null,
            "align_content": null,
            "visibility": null,
            "align_self": null,
            "height": null,
            "min_height": null,
            "padding": null,
            "grid_auto_rows": null,
            "grid_gap": null,
            "max_width": null,
            "order": null,
            "_view_module_version": "1.2.0",
            "grid_template_areas": null,
            "object_position": null,
            "object_fit": null,
            "grid_auto_columns": null,
            "margin": null,
            "display": null,
            "left": null
          }
        },
        "05beeb6f89e0465aba07648c0b31d246": {
          "model_module": "@jupyter-widgets/controls",
          "model_name": "HBoxModel",
          "state": {
            "_view_name": "HBoxView",
            "_dom_classes": [],
            "_model_name": "HBoxModel",
            "_view_module": "@jupyter-widgets/controls",
            "_model_module_version": "1.5.0",
            "_view_count": null,
            "_view_module_version": "1.5.0",
            "box_style": "",
            "layout": "IPY_MODEL_224eb36584644fbdb27d3dbaf3d0bb95",
            "_model_module": "@jupyter-widgets/controls",
            "children": [
              "IPY_MODEL_8b412f1974a4480183f8d29793aaa103",
              "IPY_MODEL_ef5a5b2f07ac4fbb923af6bc29695ff9"
            ]
          }
        },
        "224eb36584644fbdb27d3dbaf3d0bb95": {
          "model_module": "@jupyter-widgets/base",
          "model_name": "LayoutModel",
          "state": {
            "_view_name": "LayoutView",
            "grid_template_rows": null,
            "right": null,
            "justify_content": null,
            "_view_module": "@jupyter-widgets/base",
            "overflow": null,
            "_model_module_version": "1.2.0",
            "_view_count": null,
            "flex_flow": null,
            "width": null,
            "min_width": null,
            "border": null,
            "align_items": null,
            "bottom": null,
            "_model_module": "@jupyter-widgets/base",
            "top": null,
            "grid_column": null,
            "overflow_y": null,
            "overflow_x": null,
            "grid_auto_flow": null,
            "grid_area": null,
            "grid_template_columns": null,
            "flex": null,
            "_model_name": "LayoutModel",
            "justify_items": null,
            "grid_row": null,
            "max_height": null,
            "align_content": null,
            "visibility": null,
            "align_self": null,
            "height": null,
            "min_height": null,
            "padding": null,
            "grid_auto_rows": null,
            "grid_gap": null,
            "max_width": null,
            "order": null,
            "_view_module_version": "1.2.0",
            "grid_template_areas": null,
            "object_position": null,
            "object_fit": null,
            "grid_auto_columns": null,
            "margin": null,
            "display": null,
            "left": null
          }
        },
        "8b412f1974a4480183f8d29793aaa103": {
          "model_module": "@jupyter-widgets/controls",
          "model_name": "FloatProgressModel",
          "state": {
            "_view_name": "ProgressView",
            "style": "IPY_MODEL_06a5c038770f49fea5cf0640048432e4",
            "_dom_classes": [],
            "description": "Downloading: 100%",
            "_model_name": "FloatProgressModel",
            "bar_style": "success",
            "max": 497810400,
            "_view_module": "@jupyter-widgets/controls",
            "_model_module_version": "1.5.0",
            "value": 497810400,
            "_view_count": null,
            "_view_module_version": "1.5.0",
            "orientation": "horizontal",
            "min": 0,
            "description_tooltip": null,
            "_model_module": "@jupyter-widgets/controls",
            "layout": "IPY_MODEL_f120c8b54290486aa112718d76bef8fe"
          }
        },
        "ef5a5b2f07ac4fbb923af6bc29695ff9": {
          "model_module": "@jupyter-widgets/controls",
          "model_name": "HTMLModel",
          "state": {
            "_view_name": "HTMLView",
            "style": "IPY_MODEL_47ec48dc7386441c9eb33f08181eb014",
            "_dom_classes": [],
            "description": "",
            "_model_name": "HTMLModel",
            "placeholder": "​",
            "_view_module": "@jupyter-widgets/controls",
            "_model_module_version": "1.5.0",
            "value": " 498M/498M [00:10&lt;00:00, 47.9MB/s]",
            "_view_count": null,
            "_view_module_version": "1.5.0",
            "description_tooltip": null,
            "_model_module": "@jupyter-widgets/controls",
            "layout": "IPY_MODEL_b74e249cbed4433aa324db4db2e4cc81"
          }
        },
        "06a5c038770f49fea5cf0640048432e4": {
          "model_module": "@jupyter-widgets/controls",
          "model_name": "ProgressStyleModel",
          "state": {
            "_view_name": "StyleView",
            "_model_name": "ProgressStyleModel",
            "description_width": "initial",
            "_view_module": "@jupyter-widgets/base",
            "_model_module_version": "1.5.0",
            "_view_count": null,
            "_view_module_version": "1.2.0",
            "bar_color": null,
            "_model_module": "@jupyter-widgets/controls"
          }
        },
        "f120c8b54290486aa112718d76bef8fe": {
          "model_module": "@jupyter-widgets/base",
          "model_name": "LayoutModel",
          "state": {
            "_view_name": "LayoutView",
            "grid_template_rows": null,
            "right": null,
            "justify_content": null,
            "_view_module": "@jupyter-widgets/base",
            "overflow": null,
            "_model_module_version": "1.2.0",
            "_view_count": null,
            "flex_flow": null,
            "width": null,
            "min_width": null,
            "border": null,
            "align_items": null,
            "bottom": null,
            "_model_module": "@jupyter-widgets/base",
            "top": null,
            "grid_column": null,
            "overflow_y": null,
            "overflow_x": null,
            "grid_auto_flow": null,
            "grid_area": null,
            "grid_template_columns": null,
            "flex": null,
            "_model_name": "LayoutModel",
            "justify_items": null,
            "grid_row": null,
            "max_height": null,
            "align_content": null,
            "visibility": null,
            "align_self": null,
            "height": null,
            "min_height": null,
            "padding": null,
            "grid_auto_rows": null,
            "grid_gap": null,
            "max_width": null,
            "order": null,
            "_view_module_version": "1.2.0",
            "grid_template_areas": null,
            "object_position": null,
            "object_fit": null,
            "grid_auto_columns": null,
            "margin": null,
            "display": null,
            "left": null
          }
        },
        "47ec48dc7386441c9eb33f08181eb014": {
          "model_module": "@jupyter-widgets/controls",
          "model_name": "DescriptionStyleModel",
          "state": {
            "_view_name": "StyleView",
            "_model_name": "DescriptionStyleModel",
            "description_width": "",
            "_view_module": "@jupyter-widgets/base",
            "_model_module_version": "1.5.0",
            "_view_count": null,
            "_view_module_version": "1.2.0",
            "_model_module": "@jupyter-widgets/controls"
          }
        },
        "b74e249cbed4433aa324db4db2e4cc81": {
          "model_module": "@jupyter-widgets/base",
          "model_name": "LayoutModel",
          "state": {
            "_view_name": "LayoutView",
            "grid_template_rows": null,
            "right": null,
            "justify_content": null,
            "_view_module": "@jupyter-widgets/base",
            "overflow": null,
            "_model_module_version": "1.2.0",
            "_view_count": null,
            "flex_flow": null,
            "width": null,
            "min_width": null,
            "border": null,
            "align_items": null,
            "bottom": null,
            "_model_module": "@jupyter-widgets/base",
            "top": null,
            "grid_column": null,
            "overflow_y": null,
            "overflow_x": null,
            "grid_auto_flow": null,
            "grid_area": null,
            "grid_template_columns": null,
            "flex": null,
            "_model_name": "LayoutModel",
            "justify_items": null,
            "grid_row": null,
            "max_height": null,
            "align_content": null,
            "visibility": null,
            "align_self": null,
            "height": null,
            "min_height": null,
            "padding": null,
            "grid_auto_rows": null,
            "grid_gap": null,
            "max_width": null,
            "order": null,
            "_view_module_version": "1.2.0",
            "grid_template_areas": null,
            "object_position": null,
            "object_fit": null,
            "grid_auto_columns": null,
            "margin": null,
            "display": null,
            "left": null
          }
        }
      }
    }
  },
  "cells": [
    {
      "cell_type": "markdown",
      "metadata": {
        "id": "x2YpwE_ZFP4d"
      },
      "source": [
        "# Aspect and Sentiment Extraction\n",
        "Aspect extraction from airy hotel"
      ]
    },
    {
      "cell_type": "code",
      "metadata": {
        "id": "j9sv8BxYL4gc"
      },
      "source": [
        "!pip3 install transformers #python package for transfer learning in NLP\n",
        "from IPython.display import clear_output #used to clear output\n",
        "clear_output()"
      ],
      "execution_count": 6,
      "outputs": []
    },
    {
      "cell_type": "code",
      "metadata": {
        "id": "ulS797F5fcRN"
      },
      "source": [
        "import random\n",
        "import numpy as np\n",
        "import pandas as pd\n",
        "import torch\n",
        "from torch import optim\n",
        "from tqdm import tqdm\n",
        "import os, sys\n",
        "import string\n",
        "import re\n",
        "from torch.utils.data import Dataset, DataLoader\n",
        "from transformers import AutoTokenizer\n",
        "\n",
        "from transformers import BertConfig, BertTokenizer\n",
        "from nltk.tokenize import word_tokenize\n",
        "import itertools\n",
        "from sklearn.metrics import accuracy_score, f1_score, recall_score, precision_score"
      ],
      "execution_count": 7,
      "outputs": []
    },
    {
      "cell_type": "code",
      "metadata": {
        "id": "plRd59a-F0lm"
      },
      "source": [
        "from transformers import AlbertPreTrainedModel, BertPreTrainedModel #import pretrained model\n",
        "import logging #logging purpose\n",
        "import math\n",
        "import os\n",
        "\n",
        "import torch #deep learning library from facebook\n",
        "from torch import nn #a neural networks library deeply integrated with autograd designed for maximum flexibility\n",
        "from torch.nn import CrossEntropyLoss, MSELoss\n",
        "\n",
        "import logging\n",
        "import math\n",
        "import os\n",
        "\n",
        "import torch\n",
        "from torch import nn\n",
        "from torch.nn import CrossEntropyLoss, MSELoss\n",
        "# swish\n",
        "from transformers.activations import gelu, gelu_new\n",
        "from transformers import BertConfig\n",
        "# from transformers.file_utils import add_start_docstrings, add_start_docstrings_to_callable\n",
        "# from transformers.modeling_utils import PreTrainedModel, prune_linear_layer\n",
        "# from transformers.modeling_xlm import XLMPreTrainedModel\n",
        "from transformers import AlbertPreTrainedModel, BertPreTrainedModel, AlbertModel, BertModel, BertConfig, XLMModel, XLMConfig, XLMRobertaModel, XLMRobertaConfig\n",
        "from transformers import AutoTokenizer, AutoConfig\n",
        "\n",
        "class BertForWordClassification(BertPreTrainedModel):\n",
        "    def __init__(self, config):\n",
        "        super().__init__(config)\n",
        "        self.num_labels = config.num_labels\n",
        "\n",
        "        self.bert = BertModel(config)\n",
        "        self.dropout = nn.Dropout(config.hidden_dropout_prob)\n",
        "        self.classifier = nn.Linear(config.hidden_size, config.num_labels)\n",
        "\n",
        "        self.init_weights()\n",
        "\n",
        "    def forward(\n",
        "        self,\n",
        "        input_ids=None,\n",
        "        subword_to_word_ids=None,\n",
        "        attention_mask=None,\n",
        "        token_type_ids=None,\n",
        "        position_ids=None,\n",
        "        head_mask=None,\n",
        "        inputs_embeds=None,\n",
        "        labels=None,\n",
        "    ):\n",
        "\n",
        "\n",
        "        outputs = self.bert(\n",
        "            input_ids,\n",
        "            attention_mask=attention_mask,\n",
        "            token_type_ids=token_type_ids,\n",
        "            position_ids=position_ids,\n",
        "            head_mask=head_mask,\n",
        "            inputs_embeds=inputs_embeds,\n",
        "        )\n",
        "\n",
        "        sequence_output = outputs[0]\n",
        "\n",
        "        # average the token-level outputs to compute word-level representations\n",
        "        max_seq_len = subword_to_word_ids.max() + 1\n",
        "        word_latents = []\n",
        "        for i in range(max_seq_len):\n",
        "            mask = (subword_to_word_ids == i).unsqueeze(dim=-1)\n",
        "            word_latents.append((sequence_output * mask).sum(dim=1) / mask.sum())\n",
        "        word_batch = torch.stack(word_latents, dim=1)\n",
        "\n",
        "        sequence_output = self.dropout(word_batch)\n",
        "        logits = self.classifier(sequence_output)\n",
        "\n",
        "        outputs = (logits,) + outputs[2:]  # add hidden states and attention if they are here\n",
        "        if labels is not None:\n",
        "            loss_fct = CrossEntropyLoss()\n",
        "            loss = loss_fct(logits.view(-1, self.num_labels), labels.view(-1))\n",
        "            outputs = (loss,) + outputs\n",
        "\n",
        "        return outputs  # (loss), scores, (hidden_states), (attentions)"
      ],
      "execution_count": 8,
      "outputs": []
    },
    {
      "cell_type": "code",
      "metadata": {
        "id": "14QfVA8tGW3T"
      },
      "source": [
        "# Forward function for word classification\n",
        "def forward_word_classification(model, batch_data, i2w, is_test=False, device='cpu', **kwargs):\n",
        "    # Unpack batch data\n",
        "    if len(batch_data) == 4:\n",
        "        (subword_batch, mask_batch, subword_to_word_indices_batch, label_batch) = batch_data\n",
        "        token_type_batch = None\n",
        "    elif len(batch_data) == 5:\n",
        "        (subword_batch, mask_batch, token_type_batch, subword_to_word_indices_batch, label_batch) = batch_data\n",
        "    \n",
        "    # Prepare input & label\n",
        "    subword_batch = torch.LongTensor(subword_batch)\n",
        "    mask_batch = torch.FloatTensor(mask_batch)\n",
        "    token_type_batch = torch.LongTensor(token_type_batch) if token_type_batch is not None else None\n",
        "    subword_to_word_indices_batch = torch.LongTensor(subword_to_word_indices_batch)\n",
        "    label_batch = torch.LongTensor(label_batch)\n",
        "\n",
        "    if device == \"cuda\":\n",
        "        subword_batch = subword_batch.cuda()\n",
        "        mask_batch = mask_batch.cuda()\n",
        "        token_type_batch = token_type_batch.cuda() if token_type_batch is not None else None\n",
        "        subword_to_word_indices_batch = subword_to_word_indices_batch.cuda()\n",
        "        label_batch = label_batch.cuda()\n",
        "\n",
        "    # Forward model\n",
        "    outputs = model(subword_batch, subword_to_word_indices_batch, attention_mask=mask_batch, token_type_ids=token_type_batch, labels=label_batch)\n",
        "    loss, logits = outputs[:2]\n",
        "    \n",
        "    # generate prediction & label list\n",
        "    list_hyps = []\n",
        "    list_labels = []\n",
        "    hyps_list = torch.topk(logits, k=1, dim=-1)[1].squeeze(dim=-1)\n",
        "    for i in range(len(hyps_list)):\n",
        "        hyps, labels = hyps_list[i].tolist(), label_batch[i].tolist()        \n",
        "        list_hyp, list_label = [], []\n",
        "        for j in range(len(hyps)):\n",
        "            if labels[j] == -100:\n",
        "                break\n",
        "            else:\n",
        "                list_hyp.append(i2w[hyps[j]])\n",
        "                list_label.append(i2w[labels[j]])\n",
        "        list_hyps.append(list_hyp)\n",
        "        list_labels.append(list_label)\n",
        "        \n",
        "    return loss, list_hyps, list_labels"
      ],
      "execution_count": 9,
      "outputs": []
    },
    {
      "cell_type": "code",
      "metadata": {
        "id": "at6G5QZcMXSA"
      },
      "source": [
        "import sys\n",
        "import re\n",
        "from collections import defaultdict, namedtuple\n",
        "class EvalCounts(object):\n",
        "    def __init__(self):\n",
        "        self.correct_chunk = 0    # number of correctly identified chunks\n",
        "        self.correct_tags = 0     # number of correct chunk tags\n",
        "        self.found_correct = 0    # number of chunks in corpus\n",
        "        self.found_guessed = 0    # number of identified chunks\n",
        "        self.token_counter = 0    # token counter (ignores sentence breaks)\n",
        "\n",
        "        # counts by type\n",
        "        self.t_correct_chunk = defaultdict(int)\n",
        "        self.t_found_correct = defaultdict(int)\n",
        "        self.t_found_guessed = defaultdict(int)\n"
      ],
      "execution_count": 10,
      "outputs": []
    },
    {
      "cell_type": "code",
      "metadata": {
        "id": "K_aKCrP7NtUc"
      },
      "source": [
        "def start_of_chunk(prev_tag, tag, prev_type, type_):\n",
        "    # check if a chunk started between the previous and current word\n",
        "    # arguments: previous and current chunk tags, previous and current types\n",
        "    chunk_start = False\n",
        "\n",
        "    if tag == 'B': chunk_start = True\n",
        "    if tag == 'S': chunk_start = True\n",
        "\n",
        "    if prev_tag == 'E' and tag == 'E': chunk_start = True\n",
        "    if prev_tag == 'E' and tag == 'I': chunk_start = True\n",
        "    if prev_tag == 'S' and tag == 'E': chunk_start = True\n",
        "    if prev_tag == 'S' and tag == 'I': chunk_start = True\n",
        "    if prev_tag == 'O' and tag == 'E': chunk_start = True\n",
        "    if prev_tag == 'O' and tag == 'I': chunk_start = True\n",
        "\n",
        "    if tag != 'O' and tag != '.' and prev_type != type_:\n",
        "        chunk_start = True\n",
        "\n",
        "    # these chunks are assumed to have length 1\n",
        "    if tag == '[': chunk_start = True\n",
        "    if tag == ']': chunk_start = True\n",
        "\n",
        "    return chunk_start\n",
        "\n",
        "def end_of_chunk(prev_tag, tag, prev_type, type_):\n",
        "    # check if a chunk ended between the previous and current word\n",
        "    # arguments: previous and current chunk tags, previous and current types\n",
        "    chunk_end = False\n",
        "\n",
        "    if prev_tag == 'E': chunk_end = True\n",
        "    if prev_tag == 'S': chunk_end = True\n",
        "\n",
        "    if prev_tag == 'B' and tag == 'B': chunk_end = True\n",
        "    if prev_tag == 'B' and tag == 'S': chunk_end = True\n",
        "    if prev_tag == 'B' and tag == 'O': chunk_end = True\n",
        "    if prev_tag == 'I' and tag == 'B': chunk_end = True\n",
        "    if prev_tag == 'I' and tag == 'S': chunk_end = True\n",
        "    if prev_tag == 'I' and tag == 'O': chunk_end = True\n",
        "\n",
        "    if prev_tag != 'O' and prev_tag != '.' and prev_type != type_:\n",
        "        chunk_end = True\n",
        "\n",
        "    # these chunks are assumed to have length 1\n",
        "    if prev_tag == ']': chunk_end = True\n",
        "    if prev_tag == '[': chunk_end = True\n",
        "\n",
        "    return chunk_end"
      ],
      "execution_count": 11,
      "outputs": []
    },
    {
      "cell_type": "code",
      "metadata": {
        "id": "LMwrE6aqOYDA"
      },
      "source": [
        "###\n",
        "# Evaluate Function\n",
        "###        \n",
        "def parse_tag(t):\n",
        "    m = re.match(r'^([^-]*)-(.*)$', t)\n",
        "    return m.groups() if m else (t, '')"
      ],
      "execution_count": 12,
      "outputs": []
    },
    {
      "cell_type": "code",
      "metadata": {
        "id": "OaZPt7PnNoe-"
      },
      "source": [
        "def evaluate_fn(guessed, correct, last_correct, last_correct_type, last_guessed, last_guessed_type, in_correct, counts):\n",
        "    guessed, guessed_type = parse_tag(guessed)\n",
        "    correct, correct_type = parse_tag(correct)\n",
        "\n",
        "    end_correct = end_of_chunk(last_correct, correct,\n",
        "                               last_correct_type, correct_type)\n",
        "    end_guessed = end_of_chunk(last_guessed, guessed,\n",
        "                               last_guessed_type, guessed_type)\n",
        "    start_correct = start_of_chunk(last_correct, correct,\n",
        "                                   last_correct_type, correct_type)\n",
        "    start_guessed = start_of_chunk(last_guessed, guessed,\n",
        "                                   last_guessed_type, guessed_type)\n",
        "\n",
        "    if in_correct:\n",
        "        if (end_correct and end_guessed and\n",
        "            last_guessed_type == last_correct_type):\n",
        "            in_correct = False\n",
        "            counts.correct_chunk += 1\n",
        "            counts.t_correct_chunk[last_correct_type] += 1\n",
        "        elif (end_correct != end_guessed or guessed_type != correct_type):\n",
        "            in_correct = False\n",
        "\n",
        "    if start_correct and start_guessed and guessed_type == correct_type:\n",
        "        in_correct = True\n",
        "\n",
        "    if start_correct:\n",
        "        counts.found_correct += 1\n",
        "        counts.t_found_correct[correct_type] += 1\n",
        "    if start_guessed:\n",
        "        counts.found_guessed += 1\n",
        "        counts.t_found_guessed[guessed_type] += 1\n",
        "    if correct == guessed and guessed_type == correct_type:\n",
        "        counts.correct_tags += 1\n",
        "    counts.token_counter += 1\n",
        "\n",
        "    last_guessed = guessed\n",
        "    last_correct = correct\n",
        "    last_guessed_type = guessed_type\n",
        "    last_correct_type = correct_type\n",
        "    \n",
        "    return last_correct, last_correct_type, last_guessed, last_guessed_type, in_correct, counts\n",
        "    "
      ],
      "execution_count": 13,
      "outputs": []
    },
    {
      "cell_type": "code",
      "metadata": {
        "id": "bW76D_vZIjnY"
      },
      "source": [
        "def evaluate(hyps_list, labels_list):\n",
        "    counts = EvalCounts()\n",
        "    num_features = None       # number of features per line\n",
        "    in_correct = False        # currently processed chunks is correct until now\n",
        "    last_correct = 'O'        # previous chunk tag in corpus\n",
        "    last_correct_type = ''    # type of previously identified chunk tag\n",
        "    last_guessed = 'O'        # previously identified chunk tag\n",
        "    last_guessed_type = ''    # type of previous chunk tag in corpus\n",
        "\n",
        "    for hyps, labels in zip(hyps_list, labels_list):\n",
        "        for hyp, label in zip(hyps, labels):\n",
        "            \n",
        "            step_result = evaluate_fn(hyp, label, last_correct, last_correct_type, last_guessed, last_guessed_type, in_correct, counts)\n",
        "            # print(\"step result \", step_result)\n",
        "            last_correct, last_correct_type, last_guessed, last_guessed_type, in_correct, counts = step_result\n",
        "        # Boundary between sentence\n",
        "        step_result = evaluate_fn('O', 'O', last_correct, last_correct_type, last_guessed, last_guessed_type, in_correct, counts)\n",
        "        last_correct, last_correct_type, last_guessed, last_guessed_type, in_correct, counts = step_result\n",
        "        \n",
        "    if in_correct:\n",
        "        counts.correct_chunk += 1\n",
        "        counts.t_correct_chunk[last_correct_type] += 1\n",
        "\n",
        "    return counts\n"
      ],
      "execution_count": 14,
      "outputs": []
    },
    {
      "cell_type": "code",
      "metadata": {
        "id": "v8nAkC8wQI_y"
      },
      "source": [
        "Metrics = namedtuple('Metrics', 'tp fp fn prec rec fscore')\n",
        "def calculate_metrics(correct, guessed, total):\n",
        "    tp, fp, fn = correct, guessed-correct, total-correct\n",
        "    p = 0 if tp + fp == 0 else 1.*tp / (tp + fp)\n",
        "    r = 0 if tp + fn == 0 else 1.*tp / (tp + fn)\n",
        "    f = 0 if p + r == 0 else (2 * p * r) / (p + r)\n",
        "    return Metrics(tp, fp, fn, p, r, f)"
      ],
      "execution_count": 15,
      "outputs": []
    },
    {
      "cell_type": "code",
      "metadata": {
        "id": "Vb-XZTJEIn05"
      },
      "source": [
        "###\n",
        "# Calculate Metrics Function\n",
        "###\n",
        "def uniq(iterable):\n",
        "    seen = set()\n",
        "    return [i for i in iterable if not (i in seen or seen.add(i))]\n",
        "\n",
        "def metrics(counts):\n",
        "    c = counts\n",
        "    overall = calculate_metrics(\n",
        "        c.correct_chunk, c.found_guessed, c.found_correct\n",
        "    )\n",
        "    by_type = {}\n",
        "    for t in uniq(list(c.t_found_correct.keys()) + list(c.t_found_guessed.keys())):\n",
        "        by_type[t] = calculate_metrics(\n",
        "            c.t_correct_chunk[t], c.t_found_guessed[t], c.t_found_correct[t]\n",
        "        )\n",
        "      \n",
        "    return overall, by_type"
      ],
      "execution_count": 16,
      "outputs": []
    },
    {
      "cell_type": "code",
      "metadata": {
        "id": "nShrAnWaIblg"
      },
      "source": [
        "def conll_evaluation(hyps_list, labels_list):\n",
        "    counts = evaluate(hyps_list, labels_list)\n",
        "    c = counts\n",
        "    overall = calculate_metrics(\n",
        "        c.correct_chunk, c.found_guessed, c.found_correct\n",
        "    )\n",
        "    by_type = {}\n",
        "    for t in uniq(list(c.t_found_correct.keys()) + list(c.t_found_guessed.keys())):\n",
        "        by_type[t] = calculate_metrics(\n",
        "            c.t_correct_chunk[t], c.t_found_guessed[t], c.t_found_correct[t]\n",
        "        )\n",
        "    \n",
        "    c = counts\n",
        "    acc = c.correct_tags / c.token_counter\n",
        "    pre = overall.prec\n",
        "    rec = overall.rec\n",
        "    f1 = overall.fscore\n",
        "    \n",
        "    return (acc, pre, rec, f1)"
      ],
      "execution_count": 17,
      "outputs": []
    },
    {
      "cell_type": "code",
      "metadata": {
        "id": "cEHx6sYwGvqz"
      },
      "source": [
        "def aspect_extraction_metrics_fn(list_hyp, list_label):\n",
        "    metrics = {}\n",
        "    acc, pre, rec, f1 = conll_evaluation(list_hyp, list_label)\n",
        "    metrics[\"ACC\"] = acc\n",
        "    metrics[\"F1\"] = pre\n",
        "    metrics[\"REC\"] = rec\n",
        "    metrics[\"PRE\"] = f1\n",
        "    return metrics"
      ],
      "execution_count": 18,
      "outputs": []
    },
    {
      "cell_type": "code",
      "metadata": {
        "id": "SEzFWvK0JCKT"
      },
      "source": [
        "\n",
        "#####\n",
        "# Term Extraction Airy\n",
        "#####\n",
        "class AspectExtractionDataset(Dataset):\n",
        "    # Static constant variable\n",
        "    LABEL2INDEX = {'B-ASPECT':0, 'I-ASPECT':1, 'B-SENTIMENT':2, 'I-SENTIMENT':3, 'O':4}\n",
        "    INDEX2LABEL = {0:'B-ASPECT', 1:'I-ASPECT', 2:'B-SENTIMENT', 3:'I-SENTIMENT', 4:'O'}\n",
        "    NUM_LABELS = 5\n",
        "    \n",
        "    def load_dataset(self, path):\n",
        "        # Read file\n",
        "        data = open(path,'r').readlines()\n",
        "\n",
        "        # Prepare buffer\n",
        "        dataset = []\n",
        "        sentence = []\n",
        "        seq_label = []\n",
        "        for line in data:\n",
        "            if '\\t' in line:\n",
        "                token, label = line[:-1].split('\\t')\n",
        "                sentence.append(token)\n",
        "                seq_label.append(self.LABEL2INDEX[label])\n",
        "            else:\n",
        "                dataset.append({\n",
        "                    'sentence': sentence,\n",
        "                    'seq_label': seq_label\n",
        "                })\n",
        "                sentence = []\n",
        "                seq_label = []\n",
        "        return dataset\n",
        "    \n",
        "    def __init__(self, dataset_path, tokenizer, *args, **kwargs):\n",
        "        self.data = self.load_dataset(dataset_path)\n",
        "        self.tokenizer = tokenizer\n",
        "        \n",
        "    def __getitem__(self, index):\n",
        "        data = self.data[index]\n",
        "        sentence, seq_label = data['sentence'], data['seq_label']\n",
        "        \n",
        "        # Add CLS token\n",
        "        subwords = [self.tokenizer.cls_token_id]\n",
        "        subword_to_word_indices = [-1] # For CLS\n",
        "        \n",
        "        # Add subwords\n",
        "        for word_idx, word in enumerate(sentence):\n",
        "            subword_list = self.tokenizer.encode(word, add_special_tokens=False)\n",
        "            subword_to_word_indices += [word_idx for i in range(len(subword_list))]\n",
        "            subwords += subword_list\n",
        "            \n",
        "        # Add last SEP token\n",
        "        subwords += [self.tokenizer.sep_token_id]\n",
        "        subword_to_word_indices += [-1]\n",
        "        \n",
        "        return np.array(subwords), np.array(subword_to_word_indices), np.array(seq_label), data['sentence']\n",
        "    \n",
        "    def __len__(self):\n",
        "        return len(self.data)\n",
        "       \n",
        "class AspectExtractionDataLoader(DataLoader):\n",
        "    def __init__(self, max_seq_len=512, *args, **kwargs):\n",
        "        super(AspectExtractionDataLoader, self).__init__(*args, **kwargs)\n",
        "        self.collate_fn = self._collate_fn\n",
        "        self.max_seq_len = max_seq_len\n",
        "        \n",
        "    def _collate_fn(self, batch):\n",
        "        batch_size = len(batch)\n",
        "        max_seq_len = max(map(lambda x: len(x[0]), batch))\n",
        "        max_seq_len = min(self.max_seq_len, max_seq_len)\n",
        "        max_tgt_len = max(map(lambda x: len(x[2]), batch))\n",
        "        \n",
        "        subword_batch = np.zeros((batch_size, max_seq_len), dtype=np.int64)\n",
        "        mask_batch = np.zeros((batch_size, max_seq_len), dtype=np.float32)\n",
        "        subword_to_word_indices_batch = np.full((batch_size, max_seq_len), -1, dtype=np.int64)\n",
        "        seq_label_batch = np.full((batch_size, max_tgt_len), -100, dtype=np.int64)\n",
        "        \n",
        "        seq_list = []\n",
        "        for i, (subwords, subword_to_word_indices, seq_label, raw_seq) in enumerate(batch):\n",
        "            subwords = subwords[:max_seq_len]\n",
        "            subword_to_word_indices = subword_to_word_indices[:max_seq_len]\n",
        "            \n",
        "            subword_batch[i,:len(subwords)] = subwords\n",
        "            mask_batch[i,:len(subwords)] = 1\n",
        "            subword_to_word_indices_batch[i,:len(subwords)] = subword_to_word_indices\n",
        "            seq_label_batch[i,:len(seq_label)] = seq_label\n",
        "\n",
        "            seq_list.append(raw_seq)\n",
        "            \n",
        "        return subword_batch, mask_batch, subword_to_word_indices_batch, seq_label_batch, seq_list"
      ],
      "execution_count": 19,
      "outputs": []
    },
    {
      "cell_type": "code",
      "metadata": {
        "id": "fJe8icMFFP4e"
      },
      "source": [
        ""
      ],
      "execution_count": 19,
      "outputs": []
    },
    {
      "cell_type": "code",
      "metadata": {
        "id": "NK8UI61LFP4j"
      },
      "source": [
        "###\n",
        "# common functions\n",
        "###\n",
        "def set_seed(seed):\n",
        "    random.seed(seed)\n",
        "    np.random.seed(seed)\n",
        "    torch.manual_seed(seed)\n",
        "    torch.cuda.manual_seed(seed)\n",
        "    \n",
        "def count_param(module, trainable=False):\n",
        "    if trainable:\n",
        "        return sum(p.numel() for p in module.parameters() if p.requires_grad)\n",
        "    else:\n",
        "        return sum(p.numel() for p in module.parameters())\n",
        "    \n",
        "def get_lr(optimizer):\n",
        "    for param_group in optimizer.param_groups:\n",
        "        return param_group['lr']\n",
        "\n",
        "def metrics_to_string(metric_dict):\n",
        "    string_list = []\n",
        "    for key, value in metric_dict.items():\n",
        "        string_list.append('{}:{:.2f}'.format(key, value))\n",
        "    return ' '.join(string_list)"
      ],
      "execution_count": 20,
      "outputs": []
    },
    {
      "cell_type": "code",
      "metadata": {
        "id": "OqZRavpwFP4n"
      },
      "source": [
        "# Set random seed\n",
        "set_seed(18042021)"
      ],
      "execution_count": 21,
      "outputs": []
    },
    {
      "cell_type": "markdown",
      "metadata": {
        "id": "9tmcBGmPFP4q"
      },
      "source": [
        "# Load IndoBERT Model"
      ]
    },
    {
      "cell_type": "code",
      "metadata": {
        "id": "CKp5sOeqFP4s",
        "colab": {
          "base_uri": "https://localhost:8080/",
          "height": 316,
          "referenced_widgets": [
            "28c5b4370a494ba4881139bdf01391a0",
            "df00c9c2efd7488b9ae1e0d7dca6656e",
            "7206e34b5e9f445fad68d6d24ed2eb02",
            "1ee094b7c68f409c8f2e5071cfa59228",
            "fd087f0e7f5643b597137a63423c26bb",
            "ace7a840882e47a7a1a1756e2c1de0c3",
            "c09c12e491ea427988f0ada066452879",
            "bbac9144ee614e7187a555464e0273c6",
            "12898428f76540deab9d9b3047a6966c",
            "7831daf888e141cf9589b93c2a91d3f7",
            "e6495e27257c41cbbf08a161fb854aff",
            "067063d1773b41e392d0f9057ddb396d",
            "570d41ce3a4340858ab143920f80dc45",
            "105aeb9e2cf84feda4b65298a2fd4caa",
            "a5a36bc35f23420db37f737e82cfca30",
            "b801c5f4f590472ab74575b5a12c2a87",
            "c5f841d9f259408195a95edd4a66c123",
            "fe4e02d6ada34bc8a4ef4199a2a305c2",
            "fe4ca05b99eb42e49efafbcb5591a44a",
            "48302ea4049c4439967f0316c21517a9",
            "5f9b594253bb499e897a27135ac5f99d",
            "969e1475a2e84a5899433f7f514f3298",
            "8211f5b9f1ea486b84ed85e64cd54a92",
            "1f6a12e63df844d7808aa0a777116c62",
            "7f53c08524db4faaa4c4117e1ac8150d",
            "3fb4f5dcaece4b20ab2e88773dda5b43",
            "1042fc2559e3463eb9aff32fc9ef5096",
            "c4827854d731487296d4b7b3a1665698",
            "23ac648030234ce39ee845a1854e2462",
            "98122134d1c04bf1bd199fe8834c7bac",
            "1e7f76eb3dfd46fe8aef32a3b04d813e",
            "5d020237494844fc85e3055c34c96c56",
            "05beeb6f89e0465aba07648c0b31d246",
            "224eb36584644fbdb27d3dbaf3d0bb95",
            "8b412f1974a4480183f8d29793aaa103",
            "ef5a5b2f07ac4fbb923af6bc29695ff9",
            "06a5c038770f49fea5cf0640048432e4",
            "f120c8b54290486aa112718d76bef8fe",
            "47ec48dc7386441c9eb33f08181eb014",
            "b74e249cbed4433aa324db4db2e4cc81"
          ]
        },
        "outputId": "8d998bb9-c924-4c32-a2b8-034f12986b25"
      },
      "source": [
        "# Load Tokenizer and Config\n",
        "tokenizer = BertTokenizer.from_pretrained('indobenchmark/indobert-base-p1')\n",
        "config = BertConfig.from_pretrained('indobenchmark/indobert-base-p1')\n",
        "config.num_labels = AspectExtractionDataset.NUM_LABELS\n",
        "\n",
        "# Instantiate model\n",
        "model = BertForWordClassification.from_pretrained('indobenchmark/indobert-base-p1', config=config)"
      ],
      "execution_count": 22,
      "outputs": [
        {
          "output_type": "display_data",
          "data": {
            "application/vnd.jupyter.widget-view+json": {
              "model_id": "28c5b4370a494ba4881139bdf01391a0",
              "version_minor": 0,
              "version_major": 2
            },
            "text/plain": [
              "HBox(children=(FloatProgress(value=0.0, description='Downloading', max=229167.0, style=ProgressStyle(descripti…"
            ]
          },
          "metadata": {
            "tags": []
          }
        },
        {
          "output_type": "stream",
          "text": [
            "\n"
          ],
          "name": "stdout"
        },
        {
          "output_type": "display_data",
          "data": {
            "application/vnd.jupyter.widget-view+json": {
              "model_id": "12898428f76540deab9d9b3047a6966c",
              "version_minor": 0,
              "version_major": 2
            },
            "text/plain": [
              "HBox(children=(FloatProgress(value=0.0, description='Downloading', max=112.0, style=ProgressStyle(description_…"
            ]
          },
          "metadata": {
            "tags": []
          }
        },
        {
          "output_type": "stream",
          "text": [
            "\n"
          ],
          "name": "stdout"
        },
        {
          "output_type": "display_data",
          "data": {
            "application/vnd.jupyter.widget-view+json": {
              "model_id": "c5f841d9f259408195a95edd4a66c123",
              "version_minor": 0,
              "version_major": 2
            },
            "text/plain": [
              "HBox(children=(FloatProgress(value=0.0, description='Downloading', max=2.0, style=ProgressStyle(description_wi…"
            ]
          },
          "metadata": {
            "tags": []
          }
        },
        {
          "output_type": "stream",
          "text": [
            "\n"
          ],
          "name": "stdout"
        },
        {
          "output_type": "display_data",
          "data": {
            "application/vnd.jupyter.widget-view+json": {
              "model_id": "7f53c08524db4faaa4c4117e1ac8150d",
              "version_minor": 0,
              "version_major": 2
            },
            "text/plain": [
              "HBox(children=(FloatProgress(value=0.0, description='Downloading', max=1534.0, style=ProgressStyle(description…"
            ]
          },
          "metadata": {
            "tags": []
          }
        },
        {
          "output_type": "stream",
          "text": [
            "\n"
          ],
          "name": "stdout"
        },
        {
          "output_type": "display_data",
          "data": {
            "application/vnd.jupyter.widget-view+json": {
              "model_id": "05beeb6f89e0465aba07648c0b31d246",
              "version_minor": 0,
              "version_major": 2
            },
            "text/plain": [
              "HBox(children=(FloatProgress(value=0.0, description='Downloading', max=497810400.0, style=ProgressStyle(descri…"
            ]
          },
          "metadata": {
            "tags": []
          }
        },
        {
          "output_type": "stream",
          "text": [
            "\n"
          ],
          "name": "stdout"
        },
        {
          "output_type": "stream",
          "text": [
            "Some weights of BertForWordClassification were not initialized from the model checkpoint at indobenchmark/indobert-base-p1 and are newly initialized: ['classifier.bias', 'classifier.weight']\n",
            "You should probably TRAIN this model on a down-stream task to be able to use it for predictions and inference.\n"
          ],
          "name": "stderr"
        }
      ]
    },
    {
      "cell_type": "code",
      "metadata": {
        "id": "zyuXhDUVFP40",
        "colab": {
          "base_uri": "https://localhost:8080/"
        },
        "outputId": "4a75842b-7e72-4aa1-f0df-848f57d14b96"
      },
      "source": [
        "count_param(model)"
      ],
      "execution_count": 23,
      "outputs": [
        {
          "output_type": "execute_result",
          "data": {
            "text/plain": [
              "124445189"
            ]
          },
          "metadata": {
            "tags": []
          },
          "execution_count": 23
        }
      ]
    },
    {
      "cell_type": "markdown",
      "metadata": {
        "id": "Xe_o9MXVFP43"
      },
      "source": [
        "# Prepare Aspect Extraction Dataset"
      ]
    },
    {
      "cell_type": "code",
      "metadata": {
        "id": "pXnO-KYYHLdX",
        "colab": {
          "base_uri": "https://localhost:8080/",
          "height": 35
        },
        "outputId": "4cf4df1c-cfff-4c64-fe6e-85e4beede92f"
      },
      "source": [
        "import os\n",
        "os.chdir('/content')\n",
        "os.getcwd()"
      ],
      "execution_count": 24,
      "outputs": [
        {
          "output_type": "execute_result",
          "data": {
            "application/vnd.google.colaboratory.intrinsic+json": {
              "type": "string"
            },
            "text/plain": [
              "'/content'"
            ]
          },
          "metadata": {
            "tags": []
          },
          "execution_count": 24
        }
      ]
    },
    {
      "cell_type": "code",
      "metadata": {
        "id": "U9jc4DD1FXDk",
        "colab": {
          "base_uri": "https://localhost:8080/"
        },
        "outputId": "1a3e0b9a-1e7f-424f-8c57-56c1a0567bd2"
      },
      "source": [
        "!git clone https://github.com/Azhardhiaulhaq/Aspect_Based_Sentiment_Analysis.git"
      ],
      "execution_count": 25,
      "outputs": [
        {
          "output_type": "stream",
          "text": [
            "fatal: destination path 'Aspect_Based_Sentiment_Analysis' already exists and is not an empty directory.\n"
          ],
          "name": "stdout"
        }
      ]
    },
    {
      "cell_type": "code",
      "metadata": {
        "id": "XQpBabxKFP44"
      },
      "source": [
        "train_dataset_path = '/content/Aspect_Based_Sentiment_Analysis/datasets/aspect_sentiment_extraction/train.txt'\n",
        "valid_dataset_path = '/content/Aspect_Based_Sentiment_Analysis/datasets/aspect_sentiment_extraction/valid.txt'\n",
        "test_dataset_path = '/content/Aspect_Based_Sentiment_Analysis/datasets/aspect_sentiment_extraction/test.txt'"
      ],
      "execution_count": 26,
      "outputs": []
    },
    {
      "cell_type": "code",
      "metadata": {
        "id": "JnXumAoKFP47"
      },
      "source": [
        "train_dataset = AspectExtractionDataset(train_dataset_path, tokenizer, lowercase=True)\n",
        "valid_dataset = AspectExtractionDataset(valid_dataset_path, tokenizer, lowercase=True)\n",
        "test_dataset = AspectExtractionDataset(test_dataset_path, tokenizer, lowercase=True)\n",
        "\n",
        "train_loader = AspectExtractionDataLoader(dataset=train_dataset, max_seq_len=512, batch_size=16, num_workers=16, shuffle=True)  \n",
        "valid_loader = AspectExtractionDataLoader(dataset=valid_dataset, max_seq_len=512, batch_size=16, num_workers=16, shuffle=False)  \n",
        "test_loader = AspectExtractionDataLoader(dataset=test_dataset, max_seq_len=512, batch_size=16, num_workers=16, shuffle=False)"
      ],
      "execution_count": 27,
      "outputs": []
    },
    {
      "cell_type": "code",
      "metadata": {
        "id": "nWqN2frPFP4_",
        "colab": {
          "base_uri": "https://localhost:8080/"
        },
        "outputId": "659b21d8-8c94-45eb-e432-290c96c35727"
      },
      "source": [
        "w2i, i2w = AspectExtractionDataset.LABEL2INDEX, AspectExtractionDataset.INDEX2LABEL\n",
        "print(w2i)\n",
        "print(i2w)"
      ],
      "execution_count": 28,
      "outputs": [
        {
          "output_type": "stream",
          "text": [
            "{'B-ASPECT': 0, 'I-ASPECT': 1, 'B-SENTIMENT': 2, 'I-SENTIMENT': 3, 'O': 4}\n",
            "{0: 'B-ASPECT', 1: 'I-ASPECT', 2: 'B-SENTIMENT', 3: 'I-SENTIMENT', 4: 'O'}\n"
          ],
          "name": "stdout"
        }
      ]
    },
    {
      "cell_type": "markdown",
      "metadata": {
        "id": "r2FVg8K6FP5C"
      },
      "source": [
        "# Test model on sample sentences"
      ]
    },
    {
      "cell_type": "code",
      "metadata": {
        "id": "Qhz29cpWFP5C"
      },
      "source": [
        "def word_subword_tokenize(sentence, tokenizer):\n",
        "    # Add CLS token\n",
        "    subwords = [tokenizer.cls_token_id]\n",
        "    subword_to_word_indices = [-1] # For CLS\n",
        "\n",
        "    # Add subwords\n",
        "    for word_idx, word in enumerate(sentence):\n",
        "        subword_list = tokenizer.encode(word, add_special_tokens=False)\n",
        "        subword_to_word_indices += [word_idx for i in range(len(subword_list))]\n",
        "        subwords += subword_list\n",
        "\n",
        "    # Add last SEP token\n",
        "    subwords += [tokenizer.sep_token_id]\n",
        "    subword_to_word_indices += [-1]\n",
        "\n",
        "    return subwords, subword_to_word_indices"
      ],
      "execution_count": 29,
      "outputs": []
    },
    {
      "cell_type": "code",
      "metadata": {
        "id": "gC_9MKhTFP5F",
        "colab": {
          "base_uri": "https://localhost:8080/",
          "height": 0
        },
        "outputId": "7836ce2b-70e6-495d-a785-d7235a6692a2"
      },
      "source": [
        "import nltk\n",
        "nltk.download('punkt')\n",
        "text = word_tokenize('pelayanan\tramah\tkamar\tnyaman dan fasilitas lengkap hanya\tairnya showernya kurang panas')\n",
        "subwords, subword_to_word_indices = word_subword_tokenize(text, tokenizer)\n",
        "\n",
        "subwords = torch.LongTensor(subwords).view(1, -1).to(model.device)\n",
        "subword_to_word_indices = torch.LongTensor(subword_to_word_indices).view(1, -1).to(model.device)\n",
        "logits = model(subwords, subword_to_word_indices)[0]\n",
        "\n",
        "preds = torch.topk(logits, k=1, dim=-1)[1].squeeze().numpy()\n",
        "print(preds)\n",
        "labels = [i2w[preds[i]] for i in range(len(preds))]\n",
        "\n",
        "pd.DataFrame({'words': text, 'label': labels})"
      ],
      "execution_count": 30,
      "outputs": [
        {
          "output_type": "stream",
          "text": [
            "[nltk_data] Downloading package punkt to /root/nltk_data...\n",
            "[nltk_data]   Unzipping tokenizers/punkt.zip.\n",
            "[0 4 3 3 3 2 3 3 1 2 3 3]\n"
          ],
          "name": "stdout"
        },
        {
          "output_type": "execute_result",
          "data": {
            "text/html": [
              "<div>\n",
              "<style scoped>\n",
              "    .dataframe tbody tr th:only-of-type {\n",
              "        vertical-align: middle;\n",
              "    }\n",
              "\n",
              "    .dataframe tbody tr th {\n",
              "        vertical-align: top;\n",
              "    }\n",
              "\n",
              "    .dataframe thead th {\n",
              "        text-align: right;\n",
              "    }\n",
              "</style>\n",
              "<table border=\"1\" class=\"dataframe\">\n",
              "  <thead>\n",
              "    <tr style=\"text-align: right;\">\n",
              "      <th></th>\n",
              "      <th>words</th>\n",
              "      <th>label</th>\n",
              "    </tr>\n",
              "  </thead>\n",
              "  <tbody>\n",
              "    <tr>\n",
              "      <th>0</th>\n",
              "      <td>pelayanan</td>\n",
              "      <td>B-ASPECT</td>\n",
              "    </tr>\n",
              "    <tr>\n",
              "      <th>1</th>\n",
              "      <td>ramah</td>\n",
              "      <td>O</td>\n",
              "    </tr>\n",
              "    <tr>\n",
              "      <th>2</th>\n",
              "      <td>kamar</td>\n",
              "      <td>I-SENTIMENT</td>\n",
              "    </tr>\n",
              "    <tr>\n",
              "      <th>3</th>\n",
              "      <td>nyaman</td>\n",
              "      <td>I-SENTIMENT</td>\n",
              "    </tr>\n",
              "    <tr>\n",
              "      <th>4</th>\n",
              "      <td>dan</td>\n",
              "      <td>I-SENTIMENT</td>\n",
              "    </tr>\n",
              "    <tr>\n",
              "      <th>5</th>\n",
              "      <td>fasilitas</td>\n",
              "      <td>B-SENTIMENT</td>\n",
              "    </tr>\n",
              "    <tr>\n",
              "      <th>6</th>\n",
              "      <td>lengkap</td>\n",
              "      <td>I-SENTIMENT</td>\n",
              "    </tr>\n",
              "    <tr>\n",
              "      <th>7</th>\n",
              "      <td>hanya</td>\n",
              "      <td>I-SENTIMENT</td>\n",
              "    </tr>\n",
              "    <tr>\n",
              "      <th>8</th>\n",
              "      <td>airnya</td>\n",
              "      <td>I-ASPECT</td>\n",
              "    </tr>\n",
              "    <tr>\n",
              "      <th>9</th>\n",
              "      <td>showernya</td>\n",
              "      <td>B-SENTIMENT</td>\n",
              "    </tr>\n",
              "    <tr>\n",
              "      <th>10</th>\n",
              "      <td>kurang</td>\n",
              "      <td>I-SENTIMENT</td>\n",
              "    </tr>\n",
              "    <tr>\n",
              "      <th>11</th>\n",
              "      <td>panas</td>\n",
              "      <td>I-SENTIMENT</td>\n",
              "    </tr>\n",
              "  </tbody>\n",
              "</table>\n",
              "</div>"
            ],
            "text/plain": [
              "        words        label\n",
              "0   pelayanan     B-ASPECT\n",
              "1       ramah            O\n",
              "2       kamar  I-SENTIMENT\n",
              "3      nyaman  I-SENTIMENT\n",
              "4         dan  I-SENTIMENT\n",
              "5   fasilitas  B-SENTIMENT\n",
              "6     lengkap  I-SENTIMENT\n",
              "7       hanya  I-SENTIMENT\n",
              "8      airnya     I-ASPECT\n",
              "9   showernya  B-SENTIMENT\n",
              "10     kurang  I-SENTIMENT\n",
              "11      panas  I-SENTIMENT"
            ]
          },
          "metadata": {
            "tags": []
          },
          "execution_count": 30
        }
      ]
    },
    {
      "cell_type": "code",
      "metadata": {
        "id": "JDdkGK6KNMzF",
        "colab": {
          "base_uri": "https://localhost:8080/"
        },
        "outputId": "11c70edd-1c56-4a8b-96cd-e5718fc49149"
      },
      "source": [
        "preds"
      ],
      "execution_count": 31,
      "outputs": [
        {
          "output_type": "execute_result",
          "data": {
            "text/plain": [
              "array([0, 4, 3, 3, 3, 2, 3, 3, 1, 2, 3, 3])"
            ]
          },
          "metadata": {
            "tags": []
          },
          "execution_count": 31
        }
      ]
    },
    {
      "cell_type": "code",
      "metadata": {
        "id": "-Yc_Kp0kFP5J",
        "colab": {
          "base_uri": "https://localhost:8080/",
          "height": 0
        },
        "outputId": "cad28d9e-ea3b-4e8f-bf53-54c3eedfda11"
      },
      "source": [
        "text = word_tokenize('tidak\tterlalu\tjauh dari pusat\tkota')\n",
        "subwords, subword_to_word_indices = word_subword_tokenize(text, tokenizer)\n",
        "\n",
        "subwords = torch.LongTensor(subwords).view(1, -1).to(model.device)\n",
        "subword_to_word_indices = torch.LongTensor(subword_to_word_indices).view(1, -1).to(model.device)\n",
        "logits = model(subwords, subword_to_word_indices)[0]\n",
        "\n",
        "preds = torch.topk(logits, k=1, dim=-1)[1].squeeze().cpu().numpy()\n",
        "labels = [i2w[preds[i]] for i in range(len(preds))]\n",
        "\n",
        "pd.DataFrame({'words': text, 'label': labels})"
      ],
      "execution_count": 32,
      "outputs": [
        {
          "output_type": "execute_result",
          "data": {
            "text/html": [
              "<div>\n",
              "<style scoped>\n",
              "    .dataframe tbody tr th:only-of-type {\n",
              "        vertical-align: middle;\n",
              "    }\n",
              "\n",
              "    .dataframe tbody tr th {\n",
              "        vertical-align: top;\n",
              "    }\n",
              "\n",
              "    .dataframe thead th {\n",
              "        text-align: right;\n",
              "    }\n",
              "</style>\n",
              "<table border=\"1\" class=\"dataframe\">\n",
              "  <thead>\n",
              "    <tr style=\"text-align: right;\">\n",
              "      <th></th>\n",
              "      <th>words</th>\n",
              "      <th>label</th>\n",
              "    </tr>\n",
              "  </thead>\n",
              "  <tbody>\n",
              "    <tr>\n",
              "      <th>0</th>\n",
              "      <td>tidak</td>\n",
              "      <td>I-SENTIMENT</td>\n",
              "    </tr>\n",
              "    <tr>\n",
              "      <th>1</th>\n",
              "      <td>terlalu</td>\n",
              "      <td>I-SENTIMENT</td>\n",
              "    </tr>\n",
              "    <tr>\n",
              "      <th>2</th>\n",
              "      <td>jauh</td>\n",
              "      <td>B-ASPECT</td>\n",
              "    </tr>\n",
              "    <tr>\n",
              "      <th>3</th>\n",
              "      <td>dari</td>\n",
              "      <td>B-SENTIMENT</td>\n",
              "    </tr>\n",
              "    <tr>\n",
              "      <th>4</th>\n",
              "      <td>pusat</td>\n",
              "      <td>B-SENTIMENT</td>\n",
              "    </tr>\n",
              "    <tr>\n",
              "      <th>5</th>\n",
              "      <td>kota</td>\n",
              "      <td>B-SENTIMENT</td>\n",
              "    </tr>\n",
              "  </tbody>\n",
              "</table>\n",
              "</div>"
            ],
            "text/plain": [
              "     words        label\n",
              "0    tidak  I-SENTIMENT\n",
              "1  terlalu  I-SENTIMENT\n",
              "2     jauh     B-ASPECT\n",
              "3     dari  B-SENTIMENT\n",
              "4    pusat  B-SENTIMENT\n",
              "5     kota  B-SENTIMENT"
            ]
          },
          "metadata": {
            "tags": []
          },
          "execution_count": 32
        }
      ]
    },
    {
      "cell_type": "code",
      "metadata": {
        "id": "JQTes5h3FP5M",
        "colab": {
          "base_uri": "https://localhost:8080/",
          "height": 0
        },
        "outputId": "df0e35df-7137-4f08-df48-528696db0e67"
      },
      "source": [
        "text = word_tokenize('dengan harga\tterjangkau kita sudah\tmendapatkan\tfasilitas\tyang nyaman')\n",
        "subwords, subword_to_word_indices = word_subword_tokenize(text, tokenizer)\n",
        "\n",
        "subwords = torch.LongTensor(subwords).view(1, -1).to(model.device)\n",
        "subword_to_word_indices = torch.LongTensor(subword_to_word_indices).view(1, -1).to(model.device)\n",
        "logits = model(subwords, subword_to_word_indices)[0]\n",
        "\n",
        "preds = torch.topk(logits, k=1, dim=-1)[1].squeeze().cpu().numpy()\n",
        "labels = [i2w[preds[i]] for i in range(len(preds))]\n",
        "\n",
        "pd.DataFrame({'words': text, 'label': labels})"
      ],
      "execution_count": 33,
      "outputs": [
        {
          "output_type": "execute_result",
          "data": {
            "text/html": [
              "<div>\n",
              "<style scoped>\n",
              "    .dataframe tbody tr th:only-of-type {\n",
              "        vertical-align: middle;\n",
              "    }\n",
              "\n",
              "    .dataframe tbody tr th {\n",
              "        vertical-align: top;\n",
              "    }\n",
              "\n",
              "    .dataframe thead th {\n",
              "        text-align: right;\n",
              "    }\n",
              "</style>\n",
              "<table border=\"1\" class=\"dataframe\">\n",
              "  <thead>\n",
              "    <tr style=\"text-align: right;\">\n",
              "      <th></th>\n",
              "      <th>words</th>\n",
              "      <th>label</th>\n",
              "    </tr>\n",
              "  </thead>\n",
              "  <tbody>\n",
              "    <tr>\n",
              "      <th>0</th>\n",
              "      <td>dengan</td>\n",
              "      <td>B-ASPECT</td>\n",
              "    </tr>\n",
              "    <tr>\n",
              "      <th>1</th>\n",
              "      <td>harga</td>\n",
              "      <td>I-SENTIMENT</td>\n",
              "    </tr>\n",
              "    <tr>\n",
              "      <th>2</th>\n",
              "      <td>terjangkau</td>\n",
              "      <td>B-ASPECT</td>\n",
              "    </tr>\n",
              "    <tr>\n",
              "      <th>3</th>\n",
              "      <td>kita</td>\n",
              "      <td>I-ASPECT</td>\n",
              "    </tr>\n",
              "    <tr>\n",
              "      <th>4</th>\n",
              "      <td>sudah</td>\n",
              "      <td>I-SENTIMENT</td>\n",
              "    </tr>\n",
              "    <tr>\n",
              "      <th>5</th>\n",
              "      <td>mendapatkan</td>\n",
              "      <td>I-ASPECT</td>\n",
              "    </tr>\n",
              "    <tr>\n",
              "      <th>6</th>\n",
              "      <td>fasilitas</td>\n",
              "      <td>B-ASPECT</td>\n",
              "    </tr>\n",
              "    <tr>\n",
              "      <th>7</th>\n",
              "      <td>yang</td>\n",
              "      <td>I-SENTIMENT</td>\n",
              "    </tr>\n",
              "    <tr>\n",
              "      <th>8</th>\n",
              "      <td>nyaman</td>\n",
              "      <td>B-SENTIMENT</td>\n",
              "    </tr>\n",
              "  </tbody>\n",
              "</table>\n",
              "</div>"
            ],
            "text/plain": [
              "         words        label\n",
              "0       dengan     B-ASPECT\n",
              "1        harga  I-SENTIMENT\n",
              "2   terjangkau     B-ASPECT\n",
              "3         kita     I-ASPECT\n",
              "4        sudah  I-SENTIMENT\n",
              "5  mendapatkan     I-ASPECT\n",
              "6    fasilitas     B-ASPECT\n",
              "7         yang  I-SENTIMENT\n",
              "8       nyaman  B-SENTIMENT"
            ]
          },
          "metadata": {
            "tags": []
          },
          "execution_count": 33
        }
      ]
    },
    {
      "cell_type": "markdown",
      "metadata": {
        "id": "hTx-lECWFP5Q"
      },
      "source": [
        "# Fine Tuning & Evaluation"
      ]
    },
    {
      "cell_type": "code",
      "metadata": {
        "id": "fgXdtHwtFP5R"
      },
      "source": [
        "optimizer = optim.Adam(model.parameters(), lr=5e-6)\n",
        "model = model.cuda()"
      ],
      "execution_count": 34,
      "outputs": []
    },
    {
      "cell_type": "code",
      "metadata": {
        "id": "MY2DYuNjFP5U",
        "colab": {
          "base_uri": "https://localhost:8080/"
        },
        "outputId": "ae5d6035-3815-4db6-cbe0-c40f46c742fb"
      },
      "source": [
        "# Train\n",
        "n_epochs = 2\n",
        "for epoch in range(n_epochs):\n",
        "    model.train()\n",
        "    torch.set_grad_enabled(True)\n",
        " \n",
        "    total_train_loss = 0\n",
        "    list_hyp, list_label = [], []\n",
        "\n",
        "    train_pbar = tqdm(train_loader, leave=True, total=len(train_loader))\n",
        "    for i, batch_data in enumerate(train_pbar):\n",
        "        # Forward model\n",
        "        loss, batch_hyp, batch_label = forward_word_classification(model, batch_data[:-1], i2w=i2w, device='cuda')\n",
        "\n",
        "        # Update model\n",
        "        optimizer.zero_grad()\n",
        "        loss.backward()\n",
        "        optimizer.step()\n",
        "\n",
        "        tr_loss = loss.item()\n",
        "        total_train_loss = total_train_loss + tr_loss\n",
        "\n",
        "        # Calculate metrics\n",
        "        list_hyp += batch_hyp\n",
        "        list_label += batch_label\n",
        "\n",
        "        train_pbar.set_description(\"(Epoch {}) TRAIN LOSS:{:.4f} LR:{:.8f}\".format((epoch+1),\n",
        "            total_train_loss/(i+1), get_lr(optimizer)))\n",
        "\n",
        "    # Calculate train metric\n",
        "    metrics = aspect_extraction_metrics_fn(list_hyp, list_label)\n",
        "    print(\"(Epoch {}) TRAIN LOSS:{:.4f} {} LR:{:.8f}\".format((epoch+1),\n",
        "        total_train_loss/(i+1), metrics_to_string(metrics), get_lr(optimizer)))\n",
        "\n",
        "    # Evaluate on validation\n",
        "    model.eval()\n",
        "    torch.set_grad_enabled(False)\n",
        "    \n",
        "    total_loss, total_correct, total_labels = 0, 0, 0\n",
        "    list_hyp, list_label = [], []\n",
        "\n",
        "    pbar = tqdm(valid_loader, leave=True, total=len(valid_loader))\n",
        "    for i, batch_data in enumerate(pbar):\n",
        "        batch_seq = batch_data[-1]        \n",
        "        loss, batch_hyp, batch_label = forward_word_classification(model, batch_data[:-1], i2w=i2w, device='cuda')\n",
        "        \n",
        "        # Calculate total loss\n",
        "        valid_loss = loss.item()\n",
        "        total_loss = total_loss + valid_loss\n",
        "\n",
        "        # Calculate evaluation metrics\n",
        "        list_hyp += batch_hyp\n",
        "        list_label += batch_label\n",
        "        metrics = aspect_extraction_metrics_fn(list_hyp, list_label)\n",
        "\n",
        "        pbar.set_description(\"VALID LOSS:{:.4f} {}\".format(total_loss/(i+1), metrics_to_string(metrics)))\n",
        "        \n",
        "    metrics = aspect_extraction_metrics_fn(list_hyp, list_label)\n",
        "    print(\"(Epoch {}) VALID LOSS:{:.4f} {}\".format((epoch+1),\n",
        "        total_loss/(i+1), metrics_to_string(metrics)))"
      ],
      "execution_count": 35,
      "outputs": [
        {
          "output_type": "stream",
          "text": [
            "(Epoch 1) TRAIN LOSS:1.0249 LR:0.00000500: 100%|██████████| 199/199 [00:38<00:00,  5.17it/s]\n",
            "  0%|          | 0/52 [00:00<?, ?it/s]"
          ],
          "name": "stderr"
        },
        {
          "output_type": "stream",
          "text": [
            "(Epoch 1) TRAIN LOSS:1.0249 ACC:0.76 F1:0.59 REC:0.36 PRE:0.45 LR:0.00000500\n"
          ],
          "name": "stdout"
        },
        {
          "output_type": "stream",
          "text": [
            "VALID LOSS:0.7639 ACC:0.90 F1:0.72 REC:0.81 PRE:0.76: 100%|██████████| 52/52 [00:06<00:00,  8.15it/s]\n",
            "  0%|          | 0/199 [00:00<?, ?it/s]"
          ],
          "name": "stderr"
        },
        {
          "output_type": "stream",
          "text": [
            "(Epoch 1) VALID LOSS:0.7639 ACC:0.90 F1:0.72 REC:0.81 PRE:0.76\n"
          ],
          "name": "stdout"
        },
        {
          "output_type": "stream",
          "text": [
            "(Epoch 2) TRAIN LOSS:0.7079 LR:0.00000500: 100%|██████████| 199/199 [00:39<00:00,  5.06it/s]\n",
            "  0%|          | 0/52 [00:00<?, ?it/s]"
          ],
          "name": "stderr"
        },
        {
          "output_type": "stream",
          "text": [
            "(Epoch 2) TRAIN LOSS:0.7079 ACC:0.91 F1:0.80 REC:0.82 PRE:0.81 LR:0.00000500\n"
          ],
          "name": "stdout"
        },
        {
          "output_type": "stream",
          "text": [
            "VALID LOSS:0.6658 ACC:0.92 F1:0.82 REC:0.89 PRE:0.85: 100%|██████████| 52/52 [00:06<00:00,  8.07it/s]"
          ],
          "name": "stderr"
        },
        {
          "output_type": "stream",
          "text": [
            "(Epoch 2) VALID LOSS:0.6658 ACC:0.92 F1:0.82 REC:0.89 PRE:0.85\n"
          ],
          "name": "stdout"
        },
        {
          "output_type": "stream",
          "text": [
            "\n"
          ],
          "name": "stderr"
        }
      ]
    },
    {
      "cell_type": "markdown",
      "metadata": {
        "id": "ytqu1MSwXueV"
      },
      "source": [
        "# Test fine-tuned model with sample sentences"
      ]
    },
    {
      "cell_type": "code",
      "metadata": {
        "id": "CNNPmsaZFP5a",
        "colab": {
          "base_uri": "https://localhost:8080/",
          "height": 328
        },
        "outputId": "1aaa34bf-5ad7-4ac3-9bae-e7f90cf34c2c"
      },
      "source": [
        "text = word_tokenize('dengan harga\tterjangkau kita sudah\tmendapatkan\tfasilitas\tyang nyaman')\n",
        "subwords, subword_to_word_indices = word_subword_tokenize(text, tokenizer)\n",
        "\n",
        "subwords = torch.LongTensor(subwords).view(1, -1).to(model.device)\n",
        "subword_to_word_indices = torch.LongTensor(subword_to_word_indices).view(1, -1).to(model.device)\n",
        "logits = model(subwords, subword_to_word_indices)[0]\n",
        "\n",
        "preds = torch.topk(logits, k=1, dim=-1)[1].squeeze().cpu().numpy()\n",
        "labels = [i2w[preds[i]] for i in range(len(preds))]\n",
        "\n",
        "pd.DataFrame({'words': text, 'label': labels})"
      ],
      "execution_count": null,
      "outputs": [
        {
          "output_type": "execute_result",
          "data": {
            "text/html": [
              "<div>\n",
              "<style scoped>\n",
              "    .dataframe tbody tr th:only-of-type {\n",
              "        vertical-align: middle;\n",
              "    }\n",
              "\n",
              "    .dataframe tbody tr th {\n",
              "        vertical-align: top;\n",
              "    }\n",
              "\n",
              "    .dataframe thead th {\n",
              "        text-align: right;\n",
              "    }\n",
              "</style>\n",
              "<table border=\"1\" class=\"dataframe\">\n",
              "  <thead>\n",
              "    <tr style=\"text-align: right;\">\n",
              "      <th></th>\n",
              "      <th>words</th>\n",
              "      <th>label</th>\n",
              "    </tr>\n",
              "  </thead>\n",
              "  <tbody>\n",
              "    <tr>\n",
              "      <th>0</th>\n",
              "      <td>dengan</td>\n",
              "      <td>O</td>\n",
              "    </tr>\n",
              "    <tr>\n",
              "      <th>1</th>\n",
              "      <td>harga</td>\n",
              "      <td>B-ASPECT</td>\n",
              "    </tr>\n",
              "    <tr>\n",
              "      <th>2</th>\n",
              "      <td>terjangkau</td>\n",
              "      <td>B-SENTIMENT</td>\n",
              "    </tr>\n",
              "    <tr>\n",
              "      <th>3</th>\n",
              "      <td>kita</td>\n",
              "      <td>O</td>\n",
              "    </tr>\n",
              "    <tr>\n",
              "      <th>4</th>\n",
              "      <td>sudah</td>\n",
              "      <td>O</td>\n",
              "    </tr>\n",
              "    <tr>\n",
              "      <th>5</th>\n",
              "      <td>mendapatkan</td>\n",
              "      <td>O</td>\n",
              "    </tr>\n",
              "    <tr>\n",
              "      <th>6</th>\n",
              "      <td>fasilitas</td>\n",
              "      <td>B-ASPECT</td>\n",
              "    </tr>\n",
              "    <tr>\n",
              "      <th>7</th>\n",
              "      <td>yang</td>\n",
              "      <td>O</td>\n",
              "    </tr>\n",
              "    <tr>\n",
              "      <th>8</th>\n",
              "      <td>nyaman</td>\n",
              "      <td>B-SENTIMENT</td>\n",
              "    </tr>\n",
              "  </tbody>\n",
              "</table>\n",
              "</div>"
            ],
            "text/plain": [
              "         words        label\n",
              "0       dengan            O\n",
              "1        harga     B-ASPECT\n",
              "2   terjangkau  B-SENTIMENT\n",
              "3         kita            O\n",
              "4        sudah            O\n",
              "5  mendapatkan            O\n",
              "6    fasilitas     B-ASPECT\n",
              "7         yang            O\n",
              "8       nyaman  B-SENTIMENT"
            ]
          },
          "metadata": {
            "tags": []
          },
          "execution_count": 57
        }
      ]
    },
    {
      "cell_type": "code",
      "metadata": {
        "id": "b9y3gHFGFP5d",
        "colab": {
          "base_uri": "https://localhost:8080/",
          "height": 235
        },
        "outputId": "19c13303-e464-4136-de8a-c8467aaa089d"
      },
      "source": [
        "text = word_tokenize('tidak\tterlalu\tjauh dari pusat\tkota')\n",
        "subwords, subword_to_word_indices = word_subword_tokenize(text, tokenizer)\n",
        "\n",
        "subwords = torch.LongTensor(subwords).view(1, -1).to(model.device)\n",
        "subword_to_word_indices = torch.LongTensor(subword_to_word_indices).view(1, -1).to(model.device)\n",
        "logits = model(subwords, subword_to_word_indices)[0]\n",
        "\n",
        "preds = torch.topk(logits, k=1, dim=-1)[1].squeeze().cpu().numpy()\n",
        "labels = [i2w[preds[i]] for i in range(len(preds))]\n",
        "\n",
        "pd.DataFrame({'words': text, 'label': labels})"
      ],
      "execution_count": null,
      "outputs": [
        {
          "output_type": "execute_result",
          "data": {
            "text/html": [
              "<div>\n",
              "<style scoped>\n",
              "    .dataframe tbody tr th:only-of-type {\n",
              "        vertical-align: middle;\n",
              "    }\n",
              "\n",
              "    .dataframe tbody tr th {\n",
              "        vertical-align: top;\n",
              "    }\n",
              "\n",
              "    .dataframe thead th {\n",
              "        text-align: right;\n",
              "    }\n",
              "</style>\n",
              "<table border=\"1\" class=\"dataframe\">\n",
              "  <thead>\n",
              "    <tr style=\"text-align: right;\">\n",
              "      <th></th>\n",
              "      <th>words</th>\n",
              "      <th>label</th>\n",
              "    </tr>\n",
              "  </thead>\n",
              "  <tbody>\n",
              "    <tr>\n",
              "      <th>0</th>\n",
              "      <td>tidak</td>\n",
              "      <td>B-SENTIMENT</td>\n",
              "    </tr>\n",
              "    <tr>\n",
              "      <th>1</th>\n",
              "      <td>terlalu</td>\n",
              "      <td>I-SENTIMENT</td>\n",
              "    </tr>\n",
              "    <tr>\n",
              "      <th>2</th>\n",
              "      <td>jauh</td>\n",
              "      <td>O</td>\n",
              "    </tr>\n",
              "    <tr>\n",
              "      <th>3</th>\n",
              "      <td>dari</td>\n",
              "      <td>O</td>\n",
              "    </tr>\n",
              "    <tr>\n",
              "      <th>4</th>\n",
              "      <td>pusat</td>\n",
              "      <td>O</td>\n",
              "    </tr>\n",
              "    <tr>\n",
              "      <th>5</th>\n",
              "      <td>kota</td>\n",
              "      <td>O</td>\n",
              "    </tr>\n",
              "  </tbody>\n",
              "</table>\n",
              "</div>"
            ],
            "text/plain": [
              "     words        label\n",
              "0    tidak  B-SENTIMENT\n",
              "1  terlalu  I-SENTIMENT\n",
              "2     jauh            O\n",
              "3     dari            O\n",
              "4    pusat            O\n",
              "5     kota            O"
            ]
          },
          "metadata": {
            "tags": []
          },
          "execution_count": 58
        }
      ]
    },
    {
      "cell_type": "code",
      "metadata": {
        "id": "FwLdYtDyFP5g",
        "colab": {
          "base_uri": "https://localhost:8080/",
          "height": 421
        },
        "outputId": "bbaf48ec-6837-4a1c-c601-158ec1a15a23"
      },
      "source": [
        "text = word_tokenize('pelayanan\tramah\tkamar\tnyaman dan fasilitas lengkap hanya\tairnya showernya kurang panas')\n",
        "subwords, subword_to_word_indices = word_subword_tokenize(text, tokenizer)\n",
        "\n",
        "subwords = torch.LongTensor(subwords).view(1, -1).to(model.device)\n",
        "subword_to_word_indices = torch.LongTensor(subword_to_word_indices).view(1, -1).to(model.device)\n",
        "logits = model(subwords, subword_to_word_indices)[0]\n",
        "\n",
        "preds = torch.topk(logits, k=1, dim=-1)[1].squeeze().cpu().numpy()\n",
        "labels = [i2w[preds[i]] for i in range(len(preds))]\n",
        "\n",
        "pd.DataFrame({'words': text, 'label': labels})"
      ],
      "execution_count": null,
      "outputs": [
        {
          "output_type": "execute_result",
          "data": {
            "text/html": [
              "<div>\n",
              "<style scoped>\n",
              "    .dataframe tbody tr th:only-of-type {\n",
              "        vertical-align: middle;\n",
              "    }\n",
              "\n",
              "    .dataframe tbody tr th {\n",
              "        vertical-align: top;\n",
              "    }\n",
              "\n",
              "    .dataframe thead th {\n",
              "        text-align: right;\n",
              "    }\n",
              "</style>\n",
              "<table border=\"1\" class=\"dataframe\">\n",
              "  <thead>\n",
              "    <tr style=\"text-align: right;\">\n",
              "      <th></th>\n",
              "      <th>words</th>\n",
              "      <th>label</th>\n",
              "    </tr>\n",
              "  </thead>\n",
              "  <tbody>\n",
              "    <tr>\n",
              "      <th>0</th>\n",
              "      <td>pelayanan</td>\n",
              "      <td>B-ASPECT</td>\n",
              "    </tr>\n",
              "    <tr>\n",
              "      <th>1</th>\n",
              "      <td>ramah</td>\n",
              "      <td>B-SENTIMENT</td>\n",
              "    </tr>\n",
              "    <tr>\n",
              "      <th>2</th>\n",
              "      <td>kamar</td>\n",
              "      <td>B-ASPECT</td>\n",
              "    </tr>\n",
              "    <tr>\n",
              "      <th>3</th>\n",
              "      <td>nyaman</td>\n",
              "      <td>B-SENTIMENT</td>\n",
              "    </tr>\n",
              "    <tr>\n",
              "      <th>4</th>\n",
              "      <td>dan</td>\n",
              "      <td>O</td>\n",
              "    </tr>\n",
              "    <tr>\n",
              "      <th>5</th>\n",
              "      <td>fasilitas</td>\n",
              "      <td>B-ASPECT</td>\n",
              "    </tr>\n",
              "    <tr>\n",
              "      <th>6</th>\n",
              "      <td>lengkap</td>\n",
              "      <td>B-SENTIMENT</td>\n",
              "    </tr>\n",
              "    <tr>\n",
              "      <th>7</th>\n",
              "      <td>hanya</td>\n",
              "      <td>O</td>\n",
              "    </tr>\n",
              "    <tr>\n",
              "      <th>8</th>\n",
              "      <td>airnya</td>\n",
              "      <td>B-ASPECT</td>\n",
              "    </tr>\n",
              "    <tr>\n",
              "      <th>9</th>\n",
              "      <td>showernya</td>\n",
              "      <td>I-ASPECT</td>\n",
              "    </tr>\n",
              "    <tr>\n",
              "      <th>10</th>\n",
              "      <td>kurang</td>\n",
              "      <td>B-SENTIMENT</td>\n",
              "    </tr>\n",
              "    <tr>\n",
              "      <th>11</th>\n",
              "      <td>panas</td>\n",
              "      <td>I-SENTIMENT</td>\n",
              "    </tr>\n",
              "  </tbody>\n",
              "</table>\n",
              "</div>"
            ],
            "text/plain": [
              "        words        label\n",
              "0   pelayanan     B-ASPECT\n",
              "1       ramah  B-SENTIMENT\n",
              "2       kamar     B-ASPECT\n",
              "3      nyaman  B-SENTIMENT\n",
              "4         dan            O\n",
              "5   fasilitas     B-ASPECT\n",
              "6     lengkap  B-SENTIMENT\n",
              "7       hanya            O\n",
              "8      airnya     B-ASPECT\n",
              "9   showernya     I-ASPECT\n",
              "10     kurang  B-SENTIMENT\n",
              "11      panas  I-SENTIMENT"
            ]
          },
          "metadata": {
            "tags": []
          },
          "execution_count": 59
        }
      ]
    },
    {
      "cell_type": "code",
      "metadata": {
        "id": "v3s9Lk6-FP5W",
        "colab": {
          "base_uri": "https://localhost:8080/"
        },
        "outputId": "07545da3-791f-461e-84e6-4106128845fc"
      },
      "source": [
        "# Evaluate on test\n",
        "model.eval()\n",
        "torch.set_grad_enabled(False)\n",
        "\n",
        "total_loss, total_correct, total_labels = 0, 0, 0\n",
        "list_hyp, list_label = [], []\n",
        "\n",
        "pbar = tqdm(test_loader, leave=True, total=len(test_loader))\n",
        "for i, batch_data in enumerate(pbar):\n",
        "    _, batch_hyp, _ = forward_word_classification(model, batch_data[:-1], i2w=i2w, device='cuda')\n",
        "    list_hyp += batch_hyp\n",
        "\n",
        "# Save prediction\n",
        "df = pd.DataFrame({'label':list_hyp}).reset_index()\n",
        "df.to_csv('pred.txt', index=False)\n",
        "\n",
        "print(df)"
      ],
      "execution_count": 36,
      "outputs": [
        {
          "output_type": "stream",
          "text": [
            "100%|██████████| 63/63 [00:05<00:00, 11.43it/s]"
          ],
          "name": "stderr"
        },
        {
          "output_type": "stream",
          "text": [
            "     index                                              label\n",
            "0        0  [B-ASPECT, B-SENTIMENT, O, B-ASPECT, B-SENTIME...\n",
            "1        1                    [B-SENTIMENT, O, O, O, O, O, O]\n",
            "2        2  [O, B-ASPECT, B-SENTIMENT, O, O, O, B-ASPECT, ...\n",
            "3        3  [B-ASPECT, B-SENTIMENT, I-SENTIMENT, O, O, O, ...\n",
            "4        4  [B-ASPECT, B-SENTIMENT, O, B-ASPECT, B-SENTIME...\n",
            "..     ...                                                ...\n",
            "995    995  [B-SENTIMENT, O, B-ASPECT, B-SENTIMENT, I-SENT...\n",
            "996    996  [O, O, O, O, O, O, O, O, O, O, O, O, O, O, O, ...\n",
            "997    997  [B-ASPECT, B-SENTIMENT, I-SENTIMENT, O, B-SENT...\n",
            "998    998  [B-ASPECT, B-SENTIMENT, O, B-ASPECT, B-SENTIME...\n",
            "999    999  [B-ASPECT, B-SENTIMENT, I-SENTIMENT, O, B-ASPE...\n",
            "\n",
            "[1000 rows x 2 columns]\n"
          ],
          "name": "stdout"
        },
        {
          "output_type": "stream",
          "text": [
            "\n"
          ],
          "name": "stderr"
        }
      ]
    }
  ]
}