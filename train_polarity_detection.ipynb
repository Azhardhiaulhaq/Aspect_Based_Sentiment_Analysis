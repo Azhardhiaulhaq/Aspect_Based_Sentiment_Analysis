{
 "metadata": {
  "language_info": {
   "codemirror_mode": {
    "name": "ipython",
    "version": 3
   },
   "file_extension": ".py",
   "mimetype": "text/x-python",
   "name": "python",
   "nbconvert_exporter": "python",
   "pygments_lexer": "ipython3",
   "version": "3.7.9-final"
  },
  "orig_nbformat": 2,
  "kernelspec": {
   "name": "python379jvsc74a57bd07c484756800a7c5643c1070e640262e8e18865340f257814442ed3cbd3456266",
   "display_name": "Python 3.7.9 64-bit"
  },
  "metadata": {
   "interpreter": {
    "hash": "7c484756800a7c5643c1070e640262e8e18865340f257814442ed3cbd3456266"
   }
  }
 },
 "nbformat": 4,
 "nbformat_minor": 2,
 "cells": [
  {
   "cell_type": "code",
   "execution_count": 3,
   "metadata": {},
   "outputs": [],
   "source": [
    "from modules import PolarityDetection"
   ]
  },
  {
   "cell_type": "code",
   "execution_count": 5,
   "metadata": {},
   "outputs": [
    {
     "output_type": "stream",
     "name": "stdout",
     "text": [
      "Model: \"sequential\"\n",
      "_________________________________________________________________\n",
      "Layer (type)                 Output Shape              Param #   \n",
      "=================================================================\n",
      "embedding (Embedding)        (None, 100, 8)            8000      \n",
      "_________________________________________________________________\n",
      "bidirectional (Bidirectional (None, 100, 400)          334400    \n",
      "_________________________________________________________________\n",
      "dropout (Dropout)            (None, 100, 400)          0         \n",
      "_________________________________________________________________\n",
      "bidirectional_1 (Bidirection (None, 400)               722400    \n",
      "_________________________________________________________________\n",
      "dense (Dense)                (None, 256)               102656    \n",
      "_________________________________________________________________\n",
      "dense_1 (Dense)              (None, 3)                 771       \n",
      "=================================================================\n",
      "Total params: 1,168,227\n",
      "Trainable params: 1,168,227\n",
      "Non-trainable params: 0\n",
      "_________________________________________________________________\n",
      "None\n",
      "Epoch 1/40\n",
      "37/37 [==============================] - 31s 843ms/step - loss: 0.9582 - accuracy: 0.5098\n",
      "Epoch 2/40\n",
      "37/37 [==============================] - 34s 917ms/step - loss: 0.6888 - accuracy: 0.7122\n",
      "Epoch 3/40\n",
      "37/37 [==============================] - 35s 942ms/step - loss: 0.3601 - accuracy: 0.8693\n",
      "Epoch 4/40\n",
      "37/37 [==============================] - 35s 955ms/step - loss: 0.2374 - accuracy: 0.9283\n",
      "Epoch 5/40\n",
      "37/37 [==============================] - 35s 958ms/step - loss: 0.1915 - accuracy: 0.9394\n",
      "Epoch 6/40\n",
      "37/37 [==============================] - 37s 1s/step - loss: 0.1426 - accuracy: 0.9607\n",
      "Epoch 7/40\n",
      "37/37 [==============================] - 45s 1s/step - loss: 0.1145 - accuracy: 0.9616\n",
      "Epoch 8/40\n",
      "37/37 [==============================] - 45s 1s/step - loss: 0.1008 - accuracy: 0.9684\n",
      "Epoch 9/40\n",
      "37/37 [==============================] - 46s 1s/step - loss: 0.0773 - accuracy: 0.9761\n",
      "Epoch 10/40\n",
      "37/37 [==============================] - 46s 1s/step - loss: 0.0666 - accuracy: 0.9761\n",
      "Epoch 11/40\n",
      "37/37 [==============================] - 45s 1s/step - loss: 0.0583 - accuracy: 0.9795\n",
      "Epoch 12/40\n",
      "37/37 [==============================] - 46s 1s/step - loss: 0.0782 - accuracy: 0.9744\n",
      "Epoch 13/40\n",
      "37/37 [==============================] - 46s 1s/step - loss: 0.0410 - accuracy: 0.9855\n",
      "Epoch 14/40\n",
      "37/37 [==============================] - 46s 1s/step - loss: 0.0301 - accuracy: 0.9915\n",
      "Epoch 15/40\n",
      "37/37 [==============================] - 44s 1s/step - loss: 0.0312 - accuracy: 0.9880\n",
      "Epoch 16/40\n",
      "37/37 [==============================] - 45s 1s/step - loss: 0.0288 - accuracy: 0.9906\n",
      "Epoch 17/40\n",
      "37/37 [==============================] - 45s 1s/step - loss: 0.0265 - accuracy: 0.9932\n",
      "Epoch 18/40\n",
      "37/37 [==============================] - 45s 1s/step - loss: 0.0322 - accuracy: 0.9889\n",
      "Epoch 19/40\n",
      "37/37 [==============================] - 45s 1s/step - loss: 0.0322 - accuracy: 0.9863\n",
      "Epoch 20/40\n",
      "37/37 [==============================] - 45s 1s/step - loss: 0.0380 - accuracy: 0.9846\n",
      "Epoch 21/40\n",
      "37/37 [==============================] - 46s 1s/step - loss: 0.0363 - accuracy: 0.9889\n",
      "Epoch 22/40\n",
      "37/37 [==============================] - 59s 2s/step - loss: 0.0512 - accuracy: 0.9787\n",
      "Epoch 23/40\n",
      "37/37 [==============================] - 50s 1s/step - loss: 0.0254 - accuracy: 0.9906\n",
      "Epoch 24/40\n",
      "37/37 [==============================] - 43s 1s/step - loss: 0.0175 - accuracy: 0.9932\n",
      "Epoch 25/40\n",
      "37/37 [==============================] - 44s 1s/step - loss: 0.0188 - accuracy: 0.9915\n",
      "Epoch 26/40\n",
      "37/37 [==============================] - 44s 1s/step - loss: 0.0488 - accuracy: 0.9821\n",
      "Epoch 27/40\n",
      "37/37 [==============================] - 44s 1s/step - loss: 0.0147 - accuracy: 0.9940\n",
      "Epoch 28/40\n",
      "37/37 [==============================] - 45s 1s/step - loss: 0.0086 - accuracy: 0.9983\n",
      "Epoch 29/40\n",
      "37/37 [==============================] - 46s 1s/step - loss: 0.0276 - accuracy: 0.9906\n",
      "Epoch 30/40\n",
      "37/37 [==============================] - 44s 1s/step - loss: 0.0193 - accuracy: 0.9932\n",
      "Epoch 31/40\n",
      "37/37 [==============================] - 47s 1s/step - loss: 0.0080 - accuracy: 0.9974\n",
      "Epoch 32/40\n",
      "37/37 [==============================] - 45s 1s/step - loss: 0.0050 - accuracy: 0.9983\n",
      "Epoch 33/40\n",
      "37/37 [==============================] - 45s 1s/step - loss: 0.0137 - accuracy: 0.9966\n",
      "Epoch 34/40\n",
      "37/37 [==============================] - 44s 1s/step - loss: 0.0075 - accuracy: 0.9957\n",
      "Epoch 35/40\n",
      "37/37 [==============================] - 45s 1s/step - loss: 0.0149 - accuracy: 0.9966\n",
      "Epoch 36/40\n",
      "37/37 [==============================] - 45s 1s/step - loss: 0.0106 - accuracy: 0.9966\n",
      "Epoch 37/40\n",
      "37/37 [==============================] - 45s 1s/step - loss: 0.0232 - accuracy: 0.9932\n",
      "Epoch 38/40\n",
      "37/37 [==============================] - 45s 1s/step - loss: 0.0128 - accuracy: 0.9940\n",
      "Epoch 39/40\n",
      "37/37 [==============================] - 45s 1s/step - loss: 0.0079 - accuracy: 0.9974\n",
      "Epoch 40/40\n",
      "37/37 [==============================] - 81s 2s/step - loss: 0.0033 - accuracy: 0.9991\n",
      "WARNING:tensorflow:From C:\\Users\\Azhar\\AppData\\Local\\Programs\\Python\\Python37\\lib\\site-packages\\tensorflow\\python\\training\\tracking\\tracking.py:111: Model.state_updates (from tensorflow.python.keras.engine.training) is deprecated and will be removed in a future version.\n",
      "Instructions for updating:\n",
      "This property should not be used in TensorFlow 2.0, as updates are applied automatically.\n",
      "WARNING:tensorflow:From C:\\Users\\Azhar\\AppData\\Local\\Programs\\Python\\Python37\\lib\\site-packages\\tensorflow\\python\\training\\tracking\\tracking.py:111: Layer.updates (from tensorflow.python.keras.engine.base_layer) is deprecated and will be removed in a future version.\n",
      "Instructions for updating:\n",
      "This property should not be used in TensorFlow 2.0, as updates are applied automatically.\n",
      "INFO:tensorflow:Assets written to: modules/model/PolarityDetection\\assets\n"
     ]
    },
    {
     "output_type": "error",
     "ename": "AttributeError",
     "evalue": "'float' object has no attribute 'index'",
     "traceback": [
      "\u001b[1;31m---------------------------------------------------------------------------\u001b[0m",
      "\u001b[1;31mAttributeError\u001b[0m                            Traceback (most recent call last)",
      "\u001b[1;32m<ipython-input-5-5ef9e74405d6>\u001b[0m in \u001b[0;36m<module>\u001b[1;34m\u001b[0m\n\u001b[0;32m      1\u001b[0m \u001b[0mpolarity_detector\u001b[0m \u001b[1;33m=\u001b[0m \u001b[0mPolarityDetection\u001b[0m\u001b[1;33m.\u001b[0m\u001b[0mPolarityDetection\u001b[0m\u001b[1;33m(\u001b[0m\u001b[1;33m)\u001b[0m\u001b[1;33m\u001b[0m\u001b[1;33m\u001b[0m\u001b[0m\n\u001b[1;32m----> 2\u001b[1;33m \u001b[0mpolarity_detector\u001b[0m\u001b[1;33m.\u001b[0m\u001b[0mtrain\u001b[0m\u001b[1;33m(\u001b[0m\u001b[1;33m)\u001b[0m\u001b[1;33m\u001b[0m\u001b[1;33m\u001b[0m\u001b[0m\n\u001b[0m",
      "\u001b[1;32md:\\Institut Teknologi Bandung\\Semester 8\\IF6082 Natural Language Processing\\Tubes 1\\Aspect_Based_Sentiment_Analysis\\modules\\PolarityDetection.py\u001b[0m in \u001b[0;36mtrain\u001b[1;34m(self)\u001b[0m\n\u001b[0;32m    137\u001b[0m         \u001b[0mmodel\u001b[0m\u001b[1;33m.\u001b[0m\u001b[0mfit\u001b[0m\u001b[1;33m(\u001b[0m\u001b[0mX_train\u001b[0m\u001b[1;33m,\u001b[0m \u001b[0my_train\u001b[0m\u001b[1;33m,\u001b[0m \u001b[0mbatch_size\u001b[0m\u001b[1;33m=\u001b[0m\u001b[1;36m32\u001b[0m\u001b[1;33m,\u001b[0m \u001b[0mepochs\u001b[0m\u001b[1;33m=\u001b[0m\u001b[1;36m40\u001b[0m\u001b[1;33m)\u001b[0m\u001b[1;33m\u001b[0m\u001b[1;33m\u001b[0m\u001b[0m\n\u001b[0;32m    138\u001b[0m         \u001b[0mself\u001b[0m\u001b[1;33m.\u001b[0m\u001b[0msave_model\u001b[0m\u001b[1;33m(\u001b[0m\u001b[0mmodel\u001b[0m\u001b[1;33m,\u001b[0m\u001b[1;34m\"modules/model/PolarityDetection\"\u001b[0m\u001b[1;33m)\u001b[0m\u001b[1;33m\u001b[0m\u001b[1;33m\u001b[0m\u001b[0m\n\u001b[1;32m--> 139\u001b[1;33m         \u001b[0mself\u001b[0m\u001b[1;33m.\u001b[0m\u001b[0mevaluate\u001b[0m\u001b[1;33m(\u001b[0m\u001b[0mmodel\u001b[0m\u001b[1;33m,\u001b[0m\u001b[0mX_test\u001b[0m\u001b[1;33m,\u001b[0m\u001b[0my_test\u001b[0m\u001b[1;33m)\u001b[0m\u001b[1;33m\u001b[0m\u001b[1;33m\u001b[0m\u001b[0m\n\u001b[0m\u001b[0;32m    140\u001b[0m \u001b[1;33m\u001b[0m\u001b[0m\n\u001b[0;32m    141\u001b[0m     \u001b[1;32mdef\u001b[0m \u001b[0mpredict\u001b[0m\u001b[1;33m(\u001b[0m\u001b[0mself\u001b[0m\u001b[1;33m,\u001b[0m \u001b[0msentences\u001b[0m\u001b[1;33m)\u001b[0m\u001b[1;33m:\u001b[0m\u001b[1;33m\u001b[0m\u001b[1;33m\u001b[0m\u001b[0m\n",
      "\u001b[1;32md:\\Institut Teknologi Bandung\\Semester 8\\IF6082 Natural Language Processing\\Tubes 1\\Aspect_Based_Sentiment_Analysis\\modules\\PolarityDetection.py\u001b[0m in \u001b[0;36mevaluate\u001b[1;34m(self, model, X, y)\u001b[0m\n\u001b[0;32m    123\u001b[0m         \u001b[0mresult\u001b[0m \u001b[1;33m=\u001b[0m \u001b[1;33m[\u001b[0m\u001b[1;33m]\u001b[0m\u001b[1;33m\u001b[0m\u001b[1;33m\u001b[0m\u001b[0m\n\u001b[0;32m    124\u001b[0m         \u001b[1;32mfor\u001b[0m \u001b[0mpred\u001b[0m \u001b[1;32min\u001b[0m \u001b[0my_pred\u001b[0m\u001b[1;33m:\u001b[0m\u001b[1;33m\u001b[0m\u001b[1;33m\u001b[0m\u001b[0m\n\u001b[1;32m--> 125\u001b[1;33m             \u001b[0mresult\u001b[0m\u001b[1;33m.\u001b[0m\u001b[0mappend\u001b[0m\u001b[1;33m(\u001b[0m\u001b[0mself\u001b[0m\u001b[1;33m.\u001b[0m\u001b[0mget_prediction\u001b[0m\u001b[1;33m(\u001b[0m\u001b[0mpred\u001b[0m\u001b[1;33m)\u001b[0m\u001b[1;33m)\u001b[0m\u001b[1;33m\u001b[0m\u001b[1;33m\u001b[0m\u001b[0m\n\u001b[0m\u001b[0;32m    126\u001b[0m         \u001b[0mself\u001b[0m\u001b[1;33m.\u001b[0m\u001b[0mprint_evaluation\u001b[0m\u001b[1;33m(\u001b[0m\u001b[1;34m\"Polarity Detection Evaluation\"\u001b[0m\u001b[1;33m,\u001b[0m \u001b[0my\u001b[0m\u001b[1;33m,\u001b[0m \u001b[0mresult\u001b[0m\u001b[1;33m)\u001b[0m\u001b[1;33m\u001b[0m\u001b[1;33m\u001b[0m\u001b[0m\n\u001b[0;32m    127\u001b[0m \u001b[1;33m\u001b[0m\u001b[0m\n",
      "\u001b[1;32md:\\Institut Teknologi Bandung\\Semester 8\\IF6082 Natural Language Processing\\Tubes 1\\Aspect_Based_Sentiment_Analysis\\modules\\PolarityDetection.py\u001b[0m in \u001b[0;36mget_prediction\u001b[1;34m(self, list_pred)\u001b[0m\n\u001b[0;32m    109\u001b[0m         \u001b[1;32mfor\u001b[0m \u001b[0mpred\u001b[0m \u001b[1;32min\u001b[0m \u001b[0mlist_pred\u001b[0m\u001b[1;33m:\u001b[0m\u001b[1;33m\u001b[0m\u001b[1;33m\u001b[0m\u001b[0m\n\u001b[0;32m    110\u001b[0m             \u001b[0mpred\u001b[0m \u001b[1;33m=\u001b[0m \u001b[0mpred\u001b[0m\u001b[1;33m.\u001b[0m\u001b[0mtolist\u001b[0m\u001b[1;33m(\u001b[0m\u001b[1;33m)\u001b[0m\u001b[1;33m\u001b[0m\u001b[1;33m\u001b[0m\u001b[0m\n\u001b[1;32m--> 111\u001b[1;33m             \u001b[0mresult\u001b[0m\u001b[1;33m.\u001b[0m\u001b[0mappend\u001b[0m\u001b[1;33m(\u001b[0m\u001b[0mpred\u001b[0m\u001b[1;33m.\u001b[0m\u001b[0mindex\u001b[0m\u001b[1;33m(\u001b[0m\u001b[0mmax\u001b[0m\u001b[1;33m(\u001b[0m\u001b[0mpred\u001b[0m\u001b[1;33m)\u001b[0m\u001b[1;33m)\u001b[0m\u001b[1;33m)\u001b[0m\u001b[1;33m\u001b[0m\u001b[1;33m\u001b[0m\u001b[0m\n\u001b[0m\u001b[0;32m    112\u001b[0m         \u001b[1;32mreturn\u001b[0m \u001b[0mresult\u001b[0m\u001b[1;33m\u001b[0m\u001b[1;33m\u001b[0m\u001b[0m\n\u001b[0;32m    113\u001b[0m \u001b[1;33m\u001b[0m\u001b[0m\n",
      "\u001b[1;31mAttributeError\u001b[0m: 'float' object has no attribute 'index'"
     ]
    }
   ],
   "source": [
    "polarity_detector = PolarityDetection.PolarityDetection()\n",
    "polarity_detector.train()"
   ]
  },
  {
   "cell_type": "code",
   "execution_count": null,
   "metadata": {},
   "outputs": [],
   "source": []
  }
 ]
}